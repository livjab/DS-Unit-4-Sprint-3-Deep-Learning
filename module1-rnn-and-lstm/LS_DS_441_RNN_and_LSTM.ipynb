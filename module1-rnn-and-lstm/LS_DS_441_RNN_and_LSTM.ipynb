{
 "cells": [
  {
   "cell_type": "markdown",
   "metadata": {
    "colab_type": "text",
    "id": "_IizNKWLomoA"
   },
   "source": [
    "<img align=\"left\" src=\"https://lever-client-logos.s3.amazonaws.com/864372b1-534c-480e-acd5-9711f850815c-1524247202159.png\" width=200>\n",
    "<br></br>\n",
    "<br></br>\n",
    "\n",
    "## *Data Science Unit 4 Sprint 4 Lesson 1*\n",
    "\n",
    "# Recurrent Neural Networks and Long Short Term Memory (LSTM)\n",
    "## _aka_ PREDICTING THE FUTURE!\n",
    "\n",
    "<img src=\"https://media.giphy.com/media/l2JJu8U8SoHhQEnoQ/giphy.gif\" width=480 height=356>\n",
    "<br></br>\n",
    "<br></br>\n",
    "\n",
    "> \"Yesterday's just a memory - tomorrow is never what it's supposed to be.\" -- Bob Dylan\n",
    "\n",
    "Wish you could save [Time In A Bottle](https://www.youtube.com/watch?v=AnWWj6xOleY)? With statistics you can do the next best thing - understand how data varies over time (or any sequential order), and use the order/time dimension predictively.\n",
    "\n",
    "A sequence is just any enumerated collection - order counts, and repetition is allowed. Python lists are a good elemental example - `[1, 2, 2, -1]` is a valid list, and is different from `[1, 2, -1, 2]`. The data structures we tend to use (e.g. NumPy arrays) are often built on this fundamental structure.\n",
    "\n",
    "A time series is data where you have not just the order but some actual continuous marker for where they lie \"in time\" - this could be a date, a timestamp, [Unix time](https://en.wikipedia.org/wiki/Unix_time), or something else. All time series are also sequences, and for some techniques you may just consider their order and not \"how far apart\" the entries are (if you have particularly consistent data collected at regular intervals it may not matter)."
   ]
  },
  {
   "cell_type": "markdown",
   "metadata": {
    "colab_type": "text",
    "id": "5_m0hJ4uCzHz"
   },
   "source": [
    "## Time series with plain old regression\n",
    "\n",
    "Recurrences are fancy, and we'll get to those later - let's start with something simple. Regression can handle time series just fine if you just set them up correctly - let's try some made-up stock data. And to make it, let's use a few list comprehensions!"
   ]
  },
  {
   "cell_type": "code",
   "execution_count": 1,
   "metadata": {
    "colab": {},
    "colab_type": "code",
    "id": "GkJUFfsgnqr_"
   },
   "outputs": [],
   "source": [
    "import numpy as np\n",
    "from random import random\n",
    "days = np.array((range(28)))\n",
    "stock_quotes = np.array([random() + day * random() for day in days])"
   ]
  },
  {
   "cell_type": "code",
   "execution_count": 2,
   "metadata": {
    "colab": {
     "base_uri": "https://localhost:8080/",
     "height": 121
    },
    "colab_type": "code",
    "id": "y-ORgKGNBOcb",
    "outputId": "133809e1-8588-4acb-f07e-20dfefcd03ce"
   },
   "outputs": [
    {
     "data": {
      "text/plain": [
       "array([ 0.81851506,  1.22639684,  1.25970997,  1.29319068,  3.75150326,\n",
       "        1.7331037 ,  2.98286855,  2.70856334,  6.87276058,  5.12142329,\n",
       "        5.23003842,  4.0200784 ,  0.82512692,  2.9681959 ,  5.29049871,\n",
       "        9.10019398, 11.88461752, 14.98538702, 10.14235483,  2.41216541,\n",
       "       16.08100746,  6.89840203, 20.73744787,  0.94251651, 16.15224534,\n",
       "       19.83485382,  3.48210311,  3.43231422])"
      ]
     },
     "execution_count": 2,
     "metadata": {},
     "output_type": "execute_result"
    }
   ],
   "source": [
    "stock_quotes"
   ]
  },
  {
   "cell_type": "markdown",
   "metadata": {
    "colab_type": "text",
    "id": "X3lR2wGvBx3a"
   },
   "source": [
    "Let's take a look with a scatter plot:"
   ]
  },
  {
   "cell_type": "code",
   "execution_count": 4,
   "metadata": {
    "colab": {
     "base_uri": "https://localhost:8080/",
     "height": 364
    },
    "colab_type": "code",
    "id": "pVUTC2tmBSIq",
    "outputId": "75664a71-713d-4815-d4cc-2055f485784a"
   },
   "outputs": [
    {
     "data": {
      "image/png": "[encoded data removed]",
      "text/plain": [
       "<Figure size 432x288 with 1 Axes>"
      ]
     },
     "metadata": {
      "needs_background": "light"
     },
     "output_type": "display_data"
    }
   ],
   "source": [
    "from matplotlib.pyplot import scatter\n",
    "scatter(days, stock_quotes);"
   ]
  },
  {
   "cell_type": "markdown",
   "metadata": {
    "colab_type": "text",
    "id": "hgD4q-T_B0jd"
   },
   "source": [
    "Looks pretty linear, let's try a simple OLS regression.\n",
    "\n",
    "First, these need to be NumPy arrays:"
   ]
  },
  {
   "cell_type": "code",
   "execution_count": 5,
   "metadata": {
    "colab": {},
    "colab_type": "code",
    "id": "A3Q0MrnUBXAl"
   },
   "outputs": [],
   "source": [
    "days = days.reshape(-1, 1)  # X needs to be column vectors"
   ]
  },
  {
   "cell_type": "code",
   "execution_count": 6,
   "metadata": {},
   "outputs": [
    {
     "data": {
      "text/plain": [
       "array([[ 0],\n",
       "       [ 1],\n",
       "       [ 2],\n",
       "       [ 3],\n",
       "       [ 4],\n",
       "       [ 5],\n",
       "       [ 6],\n",
       "       [ 7],\n",
       "       [ 8],\n",
       "       [ 9],\n",
       "       [10],\n",
       "       [11],\n",
       "       [12],\n",
       "       [13],\n",
       "       [14],\n",
       "       [15],\n",
       "       [16],\n",
       "       [17],\n",
       "       [18],\n",
       "       [19],\n",
       "       [20],\n",
       "       [21],\n",
       "       [22],\n",
       "       [23],\n",
       "       [24],\n",
       "       [25],\n",
       "       [26],\n",
       "       [27]])"
      ]
     },
     "execution_count": 6,
     "metadata": {},
     "output_type": "execute_result"
    }
   ],
   "source": [
    "days"
   ]
  },
  {
   "cell_type": "markdown",
   "metadata": {
    "colab_type": "text",
    "id": "vqr0SHOnB5yR"
   },
   "source": [
    "Now let's use good old `scikit-learn` and linear regression:"
   ]
  },
  {
   "cell_type": "code",
   "execution_count": 7,
   "metadata": {
    "colab": {
     "base_uri": "https://localhost:8080/",
     "height": 34
    },
    "colab_type": "code",
    "id": "PqyHxgFvBYl5",
    "outputId": "0d4a183e-fdb3-4e97-c8be-ab31a82b07ff"
   },
   "outputs": [
    {
     "data": {
      "text/plain": [
       "0.313779508747543"
      ]
     },
     "execution_count": 7,
     "metadata": {},
     "output_type": "execute_result"
    }
   ],
   "source": [
    "from sklearn.linear_model import LinearRegression\n",
    "ols_stocks = LinearRegression()\n",
    "ols_stocks.fit(days, stock_quotes)\n",
    "ols_stocks.score(days, stock_quotes)"
   ]
  },
  {
   "cell_type": "markdown",
   "metadata": {
    "colab_type": "text",
    "id": "KlU0mr-KB_Yk"
   },
   "source": [
    "That seems to work pretty well, but real stocks don't work like this.\n",
    "\n",
    "Let's make *slightly* more realistic data that depends on more than just time:"
   ]
  },
  {
   "cell_type": "code",
   "execution_count": 8,
   "metadata": {
    "colab": {},
    "colab_type": "code",
    "id": "-FV1Emb2BuLz"
   },
   "outputs": [],
   "source": [
    "# Not everything is best as a comprehension\n",
    "stock_data = np.empty([len(days), 4])\n",
    "for day in days:\n",
    "  asset = random()\n",
    "  liability = random()\n",
    "  quote = random() + ((day * random()) + (20 * asset) - (15 * liability))\n",
    "  quote = max(quote, 0.01)  # Want positive quotes\n",
    "  stock_data[day] = np.array([quote, day, asset, liability])"
   ]
  },
  {
   "cell_type": "code",
   "execution_count": 9,
   "metadata": {
    "colab": {
     "base_uri": "https://localhost:8080/",
     "height": 503
    },
    "colab_type": "code",
    "id": "6Qe2zzN1CESe",
    "outputId": "5b0cafbf-3a47-40cf-8bc3-38f2dc084e91"
   },
   "outputs": [
    {
     "data": {
      "text/plain": [
       "array([[2.94955754e+00, 0.00000000e+00, 7.77615077e-01, 8.83817720e-01],\n",
       "       [1.10221871e+01, 1.00000000e+00, 8.19612744e-01, 4.50589203e-01],\n",
       "       [9.97007317e+00, 2.00000000e+00, 4.46879888e-01, 6.52085852e-02],\n",
       "       [1.00000000e-02, 3.00000000e+00, 1.13784391e-01, 2.57146637e-01],\n",
       "       [1.00000000e-02, 4.00000000e+00, 5.66777812e-01, 9.02996738e-01],\n",
       "       [1.46596227e+00, 5.00000000e+00, 2.08457002e-01, 2.65663885e-01],\n",
       "       [1.00000000e-02, 6.00000000e+00, 1.65733009e-01, 7.50628226e-01],\n",
       "       [1.65928019e-01, 7.00000000e+00, 5.71963438e-02, 5.80784960e-01],\n",
       "       [5.54742847e+00, 8.00000000e+00, 6.01768895e-01, 5.05283298e-01],\n",
       "       [5.26695773e+00, 9.00000000e+00, 4.56141978e-01, 3.35059363e-01],\n",
       "       [1.95944548e+01, 1.00000000e+01, 6.19070300e-01, 5.69439824e-02],\n",
       "       [1.19958186e+01, 1.10000000e+01, 8.21335794e-01, 8.03954776e-01],\n",
       "       [1.00000000e-02, 1.20000000e+01, 1.76785213e-01, 6.87137834e-01],\n",
       "       [2.12091748e+01, 1.30000000e+01, 9.58711454e-01, 6.83921433e-01],\n",
       "       [1.00000000e-02, 1.40000000e+01, 1.68445918e-01, 7.00214193e-01],\n",
       "       [6.49256352e-01, 1.50000000e+01, 7.21067303e-01, 9.93726860e-01],\n",
       "       [7.61168668e+00, 1.60000000e+01, 5.93412006e-01, 6.84961417e-01],\n",
       "       [1.11842980e+01, 1.70000000e+01, 4.82206066e-01, 4.04435050e-01],\n",
       "       [5.18949937e-01, 1.80000000e+01, 8.88143964e-02, 7.75249233e-01],\n",
       "       [1.25130403e+01, 1.90000000e+01, 7.81039421e-01, 6.80868321e-01],\n",
       "       [5.46054795e+00, 2.00000000e+01, 4.56298994e-01, 5.60152332e-01],\n",
       "       [1.69221278e+01, 2.10000000e+01, 2.81928703e-01, 6.17971012e-01],\n",
       "       [3.65673398e+00, 2.20000000e+01, 3.48272320e-01, 4.13120930e-01],\n",
       "       [2.08648938e+01, 2.30000000e+01, 9.12049293e-01, 3.02343244e-01],\n",
       "       [1.05894140e+00, 2.40000000e+01, 2.40143887e-01, 4.05554525e-01],\n",
       "       [2.15866757e+01, 2.50000000e+01, 4.02917108e-01, 4.11909592e-01],\n",
       "       [2.07071223e+01, 2.60000000e+01, 9.03509977e-01, 6.40210081e-01],\n",
       "       [1.10359095e+01, 2.70000000e+01, 1.53468914e-01, 5.21548637e-01]])"
      ]
     },
     "execution_count": 9,
     "metadata": {},
     "output_type": "execute_result"
    }
   ],
   "source": [
    "stock_data"
   ]
  },
  {
   "cell_type": "markdown",
   "metadata": {
    "colab_type": "text",
    "id": "BzYy4Pb2CLCh"
   },
   "source": [
    "Let's look again:"
   ]
  },
  {
   "cell_type": "code",
   "execution_count": 10,
   "metadata": {
    "colab": {
     "base_uri": "https://localhost:8080/",
     "height": 364
    },
    "colab_type": "code",
    "id": "qdBcScz4CIXr",
    "outputId": "ad3ec81f-8fba-4355-d251-630ba5fc333c"
   },
   "outputs": [
    {
     "data": {
      "image/png": "[encoded data removed]",
      "text/plain": [
       "<Figure size 432x288 with 1 Axes>"
      ]
     },
     "metadata": {
      "needs_background": "light"
     },
     "output_type": "display_data"
    }
   ],
   "source": [
    "stock_quotes = stock_data[:,0]\n",
    "scatter(days, stock_quotes);"
   ]
  },
  {
   "cell_type": "markdown",
   "metadata": {
    "colab_type": "text",
    "id": "SBXb7dieCO5h"
   },
   "source": [
    "How does our old model do?"
   ]
  },
  {
   "cell_type": "code",
   "execution_count": 11,
   "metadata": {
    "colab": {
     "base_uri": "https://localhost:8080/",
     "height": 34
    },
    "colab_type": "code",
    "id": "7gAxCgy1COnX",
    "outputId": "ab82d066-952b-4719-e252-f679badb7b91"
   },
   "outputs": [
    {
     "data": {
      "text/plain": [
       "0.17560240892823942"
      ]
     },
     "execution_count": 11,
     "metadata": {},
     "output_type": "execute_result"
    }
   ],
   "source": [
    "days = np.array(days).reshape(-1, 1)\n",
    "ols_stocks.fit(days, stock_quotes)\n",
    "ols_stocks.score(days, stock_quotes)"
   ]
  },
  {
   "cell_type": "markdown",
   "metadata": {
    "colab_type": "text",
    "id": "3E94vTFUCax_"
   },
   "source": [
    "Not bad, but can we do better?"
   ]
  },
  {
   "cell_type": "code",
   "execution_count": 12,
   "metadata": {
    "colab": {
     "base_uri": "https://localhost:8080/",
     "height": 34
    },
    "colab_type": "code",
    "id": "mCR5GImZCbGz",
    "outputId": "9c0ef176-cb6e-4727-bdab-02f22a663b20"
   },
   "outputs": [
    {
     "data": {
      "text/plain": [
       "0.6888593785651037"
      ]
     },
     "execution_count": 12,
     "metadata": {},
     "output_type": "execute_result"
    }
   ],
   "source": [
    "ols_stocks.fit(stock_data[:,1:], stock_quotes)\n",
    "ols_stocks.score(stock_data[:,1:], stock_quotes)"
   ]
  },
  {
   "cell_type": "markdown",
   "metadata": {
    "colab_type": "text",
    "id": "1Qk-jlBCCiKB"
   },
   "source": [
    "Yep - unsurprisingly, the other covariates (assets and liabilities) have info.\n",
    "\n",
    "But, they do worse without the day data."
   ]
  },
  {
   "cell_type": "code",
   "execution_count": 13,
   "metadata": {
    "colab": {
     "base_uri": "https://localhost:8080/",
     "height": 34
    },
    "colab_type": "code",
    "id": "dDcZl7I5Cf5D",
    "outputId": "3cbd0a6e-2aa6-4f21-dbb3-66ef266f782b"
   },
   "outputs": [
    {
     "data": {
      "text/plain": [
       "0.5026149677371927"
      ]
     },
     "execution_count": 13,
     "metadata": {},
     "output_type": "execute_result"
    }
   ],
   "source": [
    "ols_stocks.fit(stock_data[:,2:], stock_quotes)\n",
    "ols_stocks.score(stock_data[:,2:], stock_quotes)"
   ]
  },
  {
   "cell_type": "markdown",
   "metadata": {
    "colab_type": "text",
    "id": "pnLXlrK8ENjb"
   },
   "source": [
    "## Time series jargon\n",
    "\n",
    "There's a lot of semi-standard language and tricks to talk about this sort of data. [NIST](https://www.itl.nist.gov/div898/handbook/pmc/section4/pmc4.htm) has an excellent guidebook, but here are some highlights:"
   ]
  },
  {
   "cell_type": "markdown",
   "metadata": {
    "colab_type": "text",
    "id": "yWUyhnTbcq55"
   },
   "source": [
    "### Moving average\n",
    "\n",
    "Moving average aka rolling average aka running average.\n",
    "\n",
    "Convert a series of data to a series of averages of continguous subsets:"
   ]
  },
  {
   "cell_type": "code",
   "execution_count": 14,
   "metadata": {
    "colab": {
     "base_uri": "https://localhost:8080/",
     "height": 503
    },
    "colab_type": "code",
    "id": "47bHhBSCcvw-",
    "outputId": "ee6bc38c-43d1-4d12-def3-fa409c9dcac4"
   },
   "outputs": [
    {
     "data": {
      "text/plain": [
       "[7.980605926057943,\n",
       " 7.000753413237184,\n",
       " 3.3300243895361046,\n",
       " 0.4953207574800344,\n",
       " 0.4953207574800344,\n",
       " 0.5472967637093206,\n",
       " 1.9077854961268192,\n",
       " 3.660104739996189,\n",
       " 10.13628034799399,\n",
       " 12.285743716742985,\n",
       " 10.533424472873616,\n",
       " 11.071664446863215,\n",
       " 7.07639158821669,\n",
       " 7.289477038739373,\n",
       " 2.7569810100368373,\n",
       " 6.481747008338362,\n",
       " 6.438311536670027,\n",
       " 8.07209607823824,\n",
       " 6.164179398244422,\n",
       " 11.631905346264354,\n",
       " 8.679803237183235,\n",
       " 13.814585197971882,\n",
       " 8.526856403772197,\n",
       " 14.503503631630048,\n",
       " 14.450913103341579,\n",
       " 17.776569143064677,\n",
       " 10.581010589872244,\n",
       " 3.678636505731024]"
      ]
     },
     "execution_count": 14,
     "metadata": {},
     "output_type": "execute_result"
    }
   ],
   "source": [
    "stock_quotes_rolling = [sum(stock_quotes[i:i+3]) / 3\n",
    "                        for i in range(len(stock_quotes - 2))]\n",
    "stock_quotes_rolling"
   ]
  },
  {
   "cell_type": "markdown",
   "metadata": {
    "colab_type": "text",
    "id": "36XvbGhoc186"
   },
   "source": [
    "Pandas has nice series related functions:"
   ]
  },
  {
   "cell_type": "code",
   "execution_count": 15,
   "metadata": {
    "colab": {
     "base_uri": "https://localhost:8080/",
     "height": 928
    },
    "colab_type": "code",
    "id": "nTNatxtycys_",
    "outputId": "65cf7f83-a475-435f-97cc-b0fc72d85f19"
   },
   "outputs": [
    {
     "data": {
      "text/html": [
       "<div>\n",
       "<style scoped>\n",
       "    .dataframe tbody tr th:only-of-type {\n",
       "        vertical-align: middle;\n",
       "    }\n",
       "\n",
       "    .dataframe tbody tr th {\n",
       "        vertical-align: top;\n",
       "    }\n",
       "\n",
       "    .dataframe thead th {\n",
       "        text-align: right;\n",
       "    }\n",
       "</style>\n",
       "<table border=\"1\" class=\"dataframe\">\n",
       "  <thead>\n",
       "    <tr style=\"text-align: right;\">\n",
       "      <th></th>\n",
       "      <th>0</th>\n",
       "    </tr>\n",
       "  </thead>\n",
       "  <tbody>\n",
       "    <tr>\n",
       "      <th>0</th>\n",
       "      <td>NaN</td>\n",
       "    </tr>\n",
       "    <tr>\n",
       "      <th>1</th>\n",
       "      <td>NaN</td>\n",
       "    </tr>\n",
       "    <tr>\n",
       "      <th>2</th>\n",
       "      <td>7.980606</td>\n",
       "    </tr>\n",
       "    <tr>\n",
       "      <th>3</th>\n",
       "      <td>7.000753</td>\n",
       "    </tr>\n",
       "    <tr>\n",
       "      <th>4</th>\n",
       "      <td>3.330024</td>\n",
       "    </tr>\n",
       "    <tr>\n",
       "      <th>5</th>\n",
       "      <td>0.495321</td>\n",
       "    </tr>\n",
       "    <tr>\n",
       "      <th>6</th>\n",
       "      <td>0.495321</td>\n",
       "    </tr>\n",
       "    <tr>\n",
       "      <th>7</th>\n",
       "      <td>0.547297</td>\n",
       "    </tr>\n",
       "    <tr>\n",
       "      <th>8</th>\n",
       "      <td>1.907785</td>\n",
       "    </tr>\n",
       "    <tr>\n",
       "      <th>9</th>\n",
       "      <td>3.660105</td>\n",
       "    </tr>\n",
       "    <tr>\n",
       "      <th>10</th>\n",
       "      <td>10.136280</td>\n",
       "    </tr>\n",
       "    <tr>\n",
       "      <th>11</th>\n",
       "      <td>12.285744</td>\n",
       "    </tr>\n",
       "    <tr>\n",
       "      <th>12</th>\n",
       "      <td>10.533424</td>\n",
       "    </tr>\n",
       "    <tr>\n",
       "      <th>13</th>\n",
       "      <td>11.071664</td>\n",
       "    </tr>\n",
       "    <tr>\n",
       "      <th>14</th>\n",
       "      <td>7.076392</td>\n",
       "    </tr>\n",
       "    <tr>\n",
       "      <th>15</th>\n",
       "      <td>7.289477</td>\n",
       "    </tr>\n",
       "    <tr>\n",
       "      <th>16</th>\n",
       "      <td>2.756981</td>\n",
       "    </tr>\n",
       "    <tr>\n",
       "      <th>17</th>\n",
       "      <td>6.481747</td>\n",
       "    </tr>\n",
       "    <tr>\n",
       "      <th>18</th>\n",
       "      <td>6.438312</td>\n",
       "    </tr>\n",
       "    <tr>\n",
       "      <th>19</th>\n",
       "      <td>8.072096</td>\n",
       "    </tr>\n",
       "    <tr>\n",
       "      <th>20</th>\n",
       "      <td>6.164179</td>\n",
       "    </tr>\n",
       "    <tr>\n",
       "      <th>21</th>\n",
       "      <td>11.631905</td>\n",
       "    </tr>\n",
       "    <tr>\n",
       "      <th>22</th>\n",
       "      <td>8.679803</td>\n",
       "    </tr>\n",
       "    <tr>\n",
       "      <th>23</th>\n",
       "      <td>13.814585</td>\n",
       "    </tr>\n",
       "    <tr>\n",
       "      <th>24</th>\n",
       "      <td>8.526856</td>\n",
       "    </tr>\n",
       "    <tr>\n",
       "      <th>25</th>\n",
       "      <td>14.503504</td>\n",
       "    </tr>\n",
       "    <tr>\n",
       "      <th>26</th>\n",
       "      <td>14.450913</td>\n",
       "    </tr>\n",
       "    <tr>\n",
       "      <th>27</th>\n",
       "      <td>17.776569</td>\n",
       "    </tr>\n",
       "  </tbody>\n",
       "</table>\n",
       "</div>"
      ],
      "text/plain": [
       "            0\n",
       "0         NaN\n",
       "1         NaN\n",
       "2    7.980606\n",
       "3    7.000753\n",
       "4    3.330024\n",
       "5    0.495321\n",
       "6    0.495321\n",
       "7    0.547297\n",
       "8    1.907785\n",
       "9    3.660105\n",
       "10  10.136280\n",
       "11  12.285744\n",
       "12  10.533424\n",
       "13  11.071664\n",
       "14   7.076392\n",
       "15   7.289477\n",
       "16   2.756981\n",
       "17   6.481747\n",
       "18   6.438312\n",
       "19   8.072096\n",
       "20   6.164179\n",
       "21  11.631905\n",
       "22   8.679803\n",
       "23  13.814585\n",
       "24   8.526856\n",
       "25  14.503504\n",
       "26  14.450913\n",
       "27  17.776569"
      ]
     },
     "execution_count": 15,
     "metadata": {},
     "output_type": "execute_result"
    }
   ],
   "source": [
    "import pandas as pd\n",
    "df = pd.DataFrame(stock_quotes)\n",
    "df.rolling(3).mean()"
   ]
  },
  {
   "cell_type": "markdown",
   "metadata": {
    "colab_type": "text",
    "id": "os-szg47dgwf"
   },
   "source": [
    "### Forecasting\n",
    "\n",
    "Forecasting - at it's simplest, it just means \"predict the future\":"
   ]
  },
  {
   "cell_type": "code",
   "execution_count": 16,
   "metadata": {
    "colab": {
     "base_uri": "https://localhost:8080/",
     "height": 34
    },
    "colab_type": "code",
    "id": "D_qtt6irdj0x",
    "outputId": "899d4e2b-1c00-4018-c9d5-3451d75a4e99"
   },
   "outputs": [
    {
     "data": {
      "text/plain": [
       "array([15.31860445])"
      ]
     },
     "execution_count": 16,
     "metadata": {},
     "output_type": "execute_result"
    }
   ],
   "source": [
    "ols_stocks.fit(stock_data[:,1:], stock_quotes)\n",
    "ols_stocks.predict([[29, 0.5, 0.5]])"
   ]
  },
  {
   "cell_type": "markdown",
   "metadata": {
    "colab_type": "text",
    "id": "fjnQY0trdnHp"
   },
   "source": [
    "One way to predict if you just have the series data is to use the prior observation. This can be pretty good (if you had to pick one feature to model the temperature for tomorrow, the temperature today is a good choice)."
   ]
  },
  {
   "cell_type": "code",
   "execution_count": 17,
   "metadata": {
    "colab": {
     "base_uri": "https://localhost:8080/",
     "height": 34
    },
    "colab_type": "code",
    "id": "bzC4DV9Hdupp",
    "outputId": "72adf4bd-a00a-411d-88cb-2f67078ba44c"
   },
   "outputs": [
    {
     "data": {
      "text/plain": [
       "0.1696037470133931"
      ]
     },
     "execution_count": 17,
     "metadata": {},
     "output_type": "execute_result"
    }
   ],
   "source": [
    "temperature = np.array([30 + random() * day\n",
    "                        for day in np.array(range(365)).reshape(-1, 1)])\n",
    "temperature_next = temperature[1:].reshape(-1, 1)\n",
    "temperature_ols = LinearRegression()\n",
    "temperature_ols.fit(temperature[:-1], temperature_next)\n",
    "temperature_ols.score(temperature[:-1], temperature_next)"
   ]
  },
  {
   "cell_type": "markdown",
   "metadata": {
    "colab_type": "text",
    "id": "RFdssXQbdxbE"
   },
   "source": [
    "But you can often make it better by considering more than one prior observation."
   ]
  },
  {
   "cell_type": "code",
   "execution_count": 18,
   "metadata": {
    "colab": {
     "base_uri": "https://localhost:8080/",
     "height": 34
    },
    "colab_type": "code",
    "id": "pVfUqD2YdxxZ",
    "outputId": "a892c370-bd2b-4e36-ef5d-767e762dacdf"
   },
   "outputs": [
    {
     "data": {
      "text/plain": [
       "0.20976562275875177"
      ]
     },
     "execution_count": 18,
     "metadata": {},
     "output_type": "execute_result"
    }
   ],
   "source": [
    "temperature_next_next = temperature[2:].reshape(-1, 1)\n",
    "temperature_two_past = np.concatenate([temperature[:-2], temperature_next[:-1]],\n",
    "                                      axis=1)\n",
    "temperature_ols.fit(temperature_two_past, temperature_next_next)\n",
    "temperature_ols.score(temperature_two_past, temperature_next_next)"
   ]
  },
  {
   "cell_type": "markdown",
   "metadata": {
    "colab_type": "text",
    "id": "c9QltBdmd7TV"
   },
   "source": [
    "### Exponential smoothing\n",
    "\n",
    "Exponential smoothing means using exponentially decreasing past weights to predict the future.\n",
    "\n",
    "You could roll your own, but let's use Pandas."
   ]
  },
  {
   "cell_type": "code",
   "execution_count": 19,
   "metadata": {
    "colab": {
     "base_uri": "https://localhost:8080/",
     "height": 1992
    },
    "colab_type": "code",
    "id": "hvMNqunOeC_B",
    "outputId": "e0294de0-3cd8-4935-e730-ee339c191690"
   },
   "outputs": [
    {
     "data": {
      "text/html": [
       "<div>\n",
       "<style scoped>\n",
       "    .dataframe tbody tr th:only-of-type {\n",
       "        vertical-align: middle;\n",
       "    }\n",
       "\n",
       "    .dataframe tbody tr th {\n",
       "        vertical-align: top;\n",
       "    }\n",
       "\n",
       "    .dataframe thead th {\n",
       "        text-align: right;\n",
       "    }\n",
       "</style>\n",
       "<table border=\"1\" class=\"dataframe\">\n",
       "  <thead>\n",
       "    <tr style=\"text-align: right;\">\n",
       "      <th></th>\n",
       "      <th>0</th>\n",
       "    </tr>\n",
       "  </thead>\n",
       "  <tbody>\n",
       "    <tr>\n",
       "      <th>0</th>\n",
       "      <td>30.000000</td>\n",
       "    </tr>\n",
       "    <tr>\n",
       "      <th>1</th>\n",
       "      <td>30.336817</td>\n",
       "    </tr>\n",
       "    <tr>\n",
       "      <th>2</th>\n",
       "      <td>30.493809</td>\n",
       "    </tr>\n",
       "    <tr>\n",
       "      <th>3</th>\n",
       "      <td>31.012465</td>\n",
       "    </tr>\n",
       "    <tr>\n",
       "      <th>4</th>\n",
       "      <td>31.127030</td>\n",
       "    </tr>\n",
       "    <tr>\n",
       "      <th>5</th>\n",
       "      <td>31.593728</td>\n",
       "    </tr>\n",
       "    <tr>\n",
       "      <th>6</th>\n",
       "      <td>31.476533</td>\n",
       "    </tr>\n",
       "    <tr>\n",
       "      <th>7</th>\n",
       "      <td>31.947018</td>\n",
       "    </tr>\n",
       "    <tr>\n",
       "      <th>8</th>\n",
       "      <td>32.436871</td>\n",
       "    </tr>\n",
       "    <tr>\n",
       "      <th>9</th>\n",
       "      <td>32.867518</td>\n",
       "    </tr>\n",
       "    <tr>\n",
       "      <th>10</th>\n",
       "      <td>33.112524</td>\n",
       "    </tr>\n",
       "    <tr>\n",
       "      <th>11</th>\n",
       "      <td>34.042339</td>\n",
       "    </tr>\n",
       "    <tr>\n",
       "      <th>12</th>\n",
       "      <td>34.558843</td>\n",
       "    </tr>\n",
       "    <tr>\n",
       "      <th>13</th>\n",
       "      <td>35.471367</td>\n",
       "    </tr>\n",
       "    <tr>\n",
       "      <th>14</th>\n",
       "      <td>36.245859</td>\n",
       "    </tr>\n",
       "    <tr>\n",
       "      <th>15</th>\n",
       "      <td>36.992052</td>\n",
       "    </tr>\n",
       "    <tr>\n",
       "      <th>16</th>\n",
       "      <td>36.939166</td>\n",
       "    </tr>\n",
       "    <tr>\n",
       "      <th>17</th>\n",
       "      <td>37.939623</td>\n",
       "    </tr>\n",
       "    <tr>\n",
       "      <th>18</th>\n",
       "      <td>37.716756</td>\n",
       "    </tr>\n",
       "    <tr>\n",
       "      <th>19</th>\n",
       "      <td>37.526048</td>\n",
       "    </tr>\n",
       "    <tr>\n",
       "      <th>20</th>\n",
       "      <td>38.512272</td>\n",
       "    </tr>\n",
       "    <tr>\n",
       "      <th>21</th>\n",
       "      <td>38.126513</td>\n",
       "    </tr>\n",
       "    <tr>\n",
       "      <th>22</th>\n",
       "      <td>39.099101</td>\n",
       "    </tr>\n",
       "    <tr>\n",
       "      <th>23</th>\n",
       "      <td>39.681891</td>\n",
       "    </tr>\n",
       "    <tr>\n",
       "      <th>24</th>\n",
       "      <td>39.775072</td>\n",
       "    </tr>\n",
       "    <tr>\n",
       "      <th>25</th>\n",
       "      <td>39.914145</td>\n",
       "    </tr>\n",
       "    <tr>\n",
       "      <th>26</th>\n",
       "      <td>39.758725</td>\n",
       "    </tr>\n",
       "    <tr>\n",
       "      <th>27</th>\n",
       "      <td>39.772856</td>\n",
       "    </tr>\n",
       "    <tr>\n",
       "      <th>28</th>\n",
       "      <td>41.553003</td>\n",
       "    </tr>\n",
       "    <tr>\n",
       "      <th>29</th>\n",
       "      <td>40.816061</td>\n",
       "    </tr>\n",
       "    <tr>\n",
       "      <th>...</th>\n",
       "      <td>...</td>\n",
       "    </tr>\n",
       "    <tr>\n",
       "      <th>335</th>\n",
       "      <td>209.581542</td>\n",
       "    </tr>\n",
       "    <tr>\n",
       "      <th>336</th>\n",
       "      <td>212.826281</td>\n",
       "    </tr>\n",
       "    <tr>\n",
       "      <th>337</th>\n",
       "      <td>219.310135</td>\n",
       "    </tr>\n",
       "    <tr>\n",
       "      <th>338</th>\n",
       "      <td>220.144543</td>\n",
       "    </tr>\n",
       "    <tr>\n",
       "      <th>339</th>\n",
       "      <td>225.024125</td>\n",
       "    </tr>\n",
       "    <tr>\n",
       "      <th>340</th>\n",
       "      <td>207.008426</td>\n",
       "    </tr>\n",
       "    <tr>\n",
       "      <th>341</th>\n",
       "      <td>217.393791</td>\n",
       "    </tr>\n",
       "    <tr>\n",
       "      <th>342</th>\n",
       "      <td>222.190778</td>\n",
       "    </tr>\n",
       "    <tr>\n",
       "      <th>343</th>\n",
       "      <td>231.235770</td>\n",
       "    </tr>\n",
       "    <tr>\n",
       "      <th>344</th>\n",
       "      <td>239.700223</td>\n",
       "    </tr>\n",
       "    <tr>\n",
       "      <th>345</th>\n",
       "      <td>221.705359</td>\n",
       "    </tr>\n",
       "    <tr>\n",
       "      <th>346</th>\n",
       "      <td>227.081849</td>\n",
       "    </tr>\n",
       "    <tr>\n",
       "      <th>347</th>\n",
       "      <td>238.701215</td>\n",
       "    </tr>\n",
       "    <tr>\n",
       "      <th>348</th>\n",
       "      <td>223.863775</td>\n",
       "    </tr>\n",
       "    <tr>\n",
       "      <th>349</th>\n",
       "      <td>205.753860</td>\n",
       "    </tr>\n",
       "    <tr>\n",
       "      <th>350</th>\n",
       "      <td>207.640328</td>\n",
       "    </tr>\n",
       "    <tr>\n",
       "      <th>351</th>\n",
       "      <td>191.009931</td>\n",
       "    </tr>\n",
       "    <tr>\n",
       "      <th>352</th>\n",
       "      <td>189.727609</td>\n",
       "    </tr>\n",
       "    <tr>\n",
       "      <th>353</th>\n",
       "      <td>191.867002</td>\n",
       "    </tr>\n",
       "    <tr>\n",
       "      <th>354</th>\n",
       "      <td>190.464253</td>\n",
       "    </tr>\n",
       "    <tr>\n",
       "      <th>355</th>\n",
       "      <td>201.518866</td>\n",
       "    </tr>\n",
       "    <tr>\n",
       "      <th>356</th>\n",
       "      <td>209.137871</td>\n",
       "    </tr>\n",
       "    <tr>\n",
       "      <th>357</th>\n",
       "      <td>202.304581</td>\n",
       "    </tr>\n",
       "    <tr>\n",
       "      <th>358</th>\n",
       "      <td>188.792142</td>\n",
       "    </tr>\n",
       "    <tr>\n",
       "      <th>359</th>\n",
       "      <td>207.466151</td>\n",
       "    </tr>\n",
       "    <tr>\n",
       "      <th>360</th>\n",
       "      <td>211.801072</td>\n",
       "    </tr>\n",
       "    <tr>\n",
       "      <th>361</th>\n",
       "      <td>205.598306</td>\n",
       "    </tr>\n",
       "    <tr>\n",
       "      <th>362</th>\n",
       "      <td>215.856552</td>\n",
       "    </tr>\n",
       "    <tr>\n",
       "      <th>363</th>\n",
       "      <td>213.608956</td>\n",
       "    </tr>\n",
       "    <tr>\n",
       "      <th>364</th>\n",
       "      <td>209.237088</td>\n",
       "    </tr>\n",
       "  </tbody>\n",
       "</table>\n",
       "<p>365 rows × 1 columns</p>\n",
       "</div>"
      ],
      "text/plain": [
       "              0\n",
       "0     30.000000\n",
       "1     30.336817\n",
       "2     30.493809\n",
       "3     31.012465\n",
       "4     31.127030\n",
       "5     31.593728\n",
       "6     31.476533\n",
       "7     31.947018\n",
       "8     32.436871\n",
       "9     32.867518\n",
       "10    33.112524\n",
       "11    34.042339\n",
       "12    34.558843\n",
       "13    35.471367\n",
       "14    36.245859\n",
       "15    36.992052\n",
       "16    36.939166\n",
       "17    37.939623\n",
       "18    37.716756\n",
       "19    37.526048\n",
       "20    38.512272\n",
       "21    38.126513\n",
       "22    39.099101\n",
       "23    39.681891\n",
       "24    39.775072\n",
       "25    39.914145\n",
       "26    39.758725\n",
       "27    39.772856\n",
       "28    41.553003\n",
       "29    40.816061\n",
       "..          ...\n",
       "335  209.581542\n",
       "336  212.826281\n",
       "337  219.310135\n",
       "338  220.144543\n",
       "339  225.024125\n",
       "340  207.008426\n",
       "341  217.393791\n",
       "342  222.190778\n",
       "343  231.235770\n",
       "344  239.700223\n",
       "345  221.705359\n",
       "346  227.081849\n",
       "347  238.701215\n",
       "348  223.863775\n",
       "349  205.753860\n",
       "350  207.640328\n",
       "351  191.009931\n",
       "352  189.727609\n",
       "353  191.867002\n",
       "354  190.464253\n",
       "355  201.518866\n",
       "356  209.137871\n",
       "357  202.304581\n",
       "358  188.792142\n",
       "359  207.466151\n",
       "360  211.801072\n",
       "361  205.598306\n",
       "362  215.856552\n",
       "363  213.608956\n",
       "364  209.237088\n",
       "\n",
       "[365 rows x 1 columns]"
      ]
     },
     "execution_count": 19,
     "metadata": {},
     "output_type": "execute_result"
    }
   ],
   "source": [
    "temperature_df = pd.DataFrame(temperature)\n",
    "temperature_df.ewm(halflife=7).mean()"
   ]
  },
  {
   "cell_type": "markdown",
   "metadata": {
    "colab_type": "text",
    "id": "gBEjBZVbeH6R"
   },
   "source": [
    "Halflife is among the parameters we can play with:"
   ]
  },
  {
   "cell_type": "code",
   "execution_count": 20,
   "metadata": {
    "colab": {
     "base_uri": "https://localhost:8080/",
     "height": 86
    },
    "colab_type": "code",
    "id": "HjZgMwYkeODN",
    "outputId": "806ae8dd-1812-4bbb-8aae-9271676aea45"
   },
   "outputs": [
    {
     "name": "stdout",
     "output_type": "stream",
     "text": [
      "0    1.218861e+06\n",
      "dtype: float64\n",
      "0    1.001204e+06\n",
      "dtype: float64\n"
     ]
    }
   ],
   "source": [
    "sse_1 = ((temperature_df - temperature_df.ewm(halflife=7).mean())**2).sum()\n",
    "sse_2 = ((temperature_df - temperature_df.ewm(halflife=3).mean())**2).sum()\n",
    "print(sse_1)\n",
    "print(sse_2)"
   ]
  },
  {
   "cell_type": "markdown",
   "metadata": {
    "colab_type": "text",
    "id": "s39bj4g9eQ9Z"
   },
   "source": [
    "Note - the first error being higher doesn't mean it's necessarily *worse*. It's *smoother* as expected, and if that's what we care about - great!"
   ]
  },
  {
   "cell_type": "markdown",
   "metadata": {
    "colab_type": "text",
    "id": "OcPMn8o4eYP1"
   },
   "source": [
    "### Seasonality\n",
    "\n",
    "Seasonality - \"day of week\"-effects, and more. In a lot of real world data, certain time periods are systemically different, e.g. holidays for retailers, weekends for restaurants, seasons for weather.\n",
    "\n",
    "Let's try to make some seasonal data - a store that sells more later in a week:"
   ]
  },
  {
   "cell_type": "code",
   "execution_count": 21,
   "metadata": {
    "colab": {
     "base_uri": "https://localhost:8080/",
     "height": 364
    },
    "colab_type": "code",
    "id": "h0qPMWCreheL",
    "outputId": "f3d7b830-5185-42c4-b4b2-c4ab53c00b09"
   },
   "outputs": [
    {
     "data": {
      "image/png": "[encoded data removed]",
      "text/plain": [
       "<Figure size 432x288 with 1 Axes>"
      ]
     },
     "metadata": {
      "needs_background": "light"
     },
     "output_type": "display_data"
    }
   ],
   "source": [
    "sales = np.array([random() + (day % 7) * random() for day in days])\n",
    "scatter(days, sales);"
   ]
  },
  {
   "cell_type": "markdown",
   "metadata": {
    "colab_type": "text",
    "id": "LEADkcMzelxY"
   },
   "source": [
    "How does linear regression do at fitting this?"
   ]
  },
  {
   "cell_type": "code",
   "execution_count": 22,
   "metadata": {
    "colab": {
     "base_uri": "https://localhost:8080/",
     "height": 34
    },
    "colab_type": "code",
    "id": "EV5kt69GenV3",
    "outputId": "d8cf0f90-2034-42da-f3f5-dff498afaca9"
   },
   "outputs": [
    {
     "data": {
      "text/plain": [
       "0.018932467901421557"
      ]
     },
     "execution_count": 22,
     "metadata": {},
     "output_type": "execute_result"
    }
   ],
   "source": [
    "sales_ols = LinearRegression()\n",
    "sales_ols.fit(days, sales)\n",
    "sales_ols.score(days, sales)"
   ]
  },
  {
   "cell_type": "markdown",
   "metadata": {
    "colab_type": "text",
    "id": "7shN1eBMep9Q"
   },
   "source": [
    "That's not great - and the fix depends on the domain. Here, we know it'd be best to actually use \"day of week\" as a feature."
   ]
  },
  {
   "cell_type": "code",
   "execution_count": 23,
   "metadata": {
    "colab": {
     "base_uri": "https://localhost:8080/",
     "height": 34
    },
    "colab_type": "code",
    "id": "Qo9eFlHIeqtA",
    "outputId": "b002f32b-8e20-4482-a70d-6ba63db9281b"
   },
   "outputs": [
    {
     "data": {
      "text/plain": [
       "0.43291959900644494"
      ]
     },
     "execution_count": 23,
     "metadata": {},
     "output_type": "execute_result"
    }
   ],
   "source": [
    "day_of_week = days % 7\n",
    "sales_ols.fit(day_of_week, sales)\n",
    "sales_ols.score(day_of_week, sales)"
   ]
  },
  {
   "cell_type": "markdown",
   "metadata": {
    "colab_type": "text",
    "id": "9ooJIfIMex2G"
   },
   "source": [
    "Note that it's also important to have representative data across whatever seasonal feature(s) you use - don't predict retailers based only on Christmas, as that won't generalize well."
   ]
  },
  {
   "cell_type": "markdown",
   "metadata": {
    "colab_type": "text",
    "id": "44QZgrPUe3-Y"
   },
   "source": [
    "## Recurrent Neural Networks\n",
    "\n",
    "There's plenty more to \"traditional\" time series, but the latest and greatest technique for sequence data is recurrent neural networks. A recurrence relation in math is an equation that uses recursion to define a sequence - a famous example is the Fibonacci numbers:\n",
    "\n",
    "$F_n = F_{n-1} + F_{n-2}$\n",
    "\n",
    "For formal math you also need a base case $F_0=1, F_1=1$, and then the rest builds from there. But for neural networks what we're really talking about are loops:\n",
    "\n",
    "![Recurrent neural network](https://upload.wikimedia.org/wikipedia/commons/b/b5/Recurrent_neural_network_unfold.svg)\n",
    "\n",
    "The hidden layers have edges (output) going back to their own input - this loop means that for any time `t` the training is at least partly based on the output from time `t-1`. The entire network is being represented on the left, and you can unfold the network explicitly to see how it behaves at any given `t`.\n",
    "\n",
    "Different units can have this \"loop\", but a particularly successful one is the long short-term memory unit (LSTM):\n",
    "\n",
    "![Long short-term memory unit](https://upload.wikimedia.org/wikipedia/commons/thumb/6/63/Long_Short-Term_Memory.svg/1024px-Long_Short-Term_Memory.svg.png)\n",
    "\n",
    "There's a lot going on here - in a nutshell, the calculus still works out and backpropagation can still be implemented. The advantage (ane namesake) of LSTM is that it can generally put more weight on recent (short-term) events while not completely losing older (long-term) information.\n",
    "\n",
    "After enough iterations, a typical neural network will start calculating prior gradients that are so small they effectively become zero - this is the [vanishing gradient problem](https://en.wikipedia.org/wiki/Vanishing_gradient_problem), and is what RNN with LSTM addresses. Pay special attention to the $c_t$ parameters and how they pass through the unit to get an intuition for how this problem is solved.\n",
    "\n",
    "So why are these cool? One particularly compelling application is actually not time series but language modeling - language is inherently ordered data (letters/words go one after another, and the order *matters*). [The Unreasonable Effectiveness of Recurrent Neural Networks](https://karpathy.github.io/2015/05/21/rnn-effectiveness/) is a famous and worth reading blog post on this topic.\n",
    "\n",
    "For our purposes, let's use TensorFlow and Keras to train RNNs with natural language. Resources:\n",
    "\n",
    "- https://github.com/keras-team/keras/blob/master/examples/imdb_lstm.py\n",
    "- https://keras.io/layers/recurrent/#lstm\n",
    "- http://adventuresinmachinelearning.com/keras-lstm-tutorial/\n",
    "\n",
    "Note that `tensorflow.contrib` [also has an implementation of RNN/LSTM](https://www.tensorflow.org/tutorials/sequences/recurrent)."
   ]
  },
  {
   "cell_type": "markdown",
   "metadata": {
    "colab_type": "text",
    "id": "eWrQllf8WEd-"
   },
   "source": [
    "### RNN/LSTM Sentiment Classification with Keras"
   ]
  },
  {
   "cell_type": "code",
   "execution_count": 26,
   "metadata": {
    "colab": {
     "base_uri": "https://localhost:8080/",
     "height": 975
    },
    "colab_type": "code",
    "id": "Ti23G0gRe3kr",
    "outputId": "bba9ae40-a286-49ed-d87b-b2946fb60ddf"
   },
   "outputs": [
    {
     "name": "stderr",
     "output_type": "stream",
     "text": [
      "Using TensorFlow backend.\n"
     ]
    },
    {
     "name": "stdout",
     "output_type": "stream",
     "text": [
      "Loading data...\n",
      "Downloading data from https://s3.amazonaws.com/text-datasets/imdb.npz\n",
      "17465344/17464789 [==============================] - 16s 1us/step\n",
      "25000 train sequences\n",
      "25000 test sequences\n",
      "Pad sequences (samples x time)\n",
      "x_train shape: (25000, 80)\n",
      "x_test shape: (25000, 80)\n",
      "Build model...\n",
      "WARNING:tensorflow:From /Users/jonathansokoll/anaconda3/lib/python3.7/site-packages/tensorflow/python/framework/op_def_library.py:263: colocate_with (from tensorflow.python.framework.ops) is deprecated and will be removed in a future version.\n",
      "Instructions for updating:\n",
      "Colocations handled automatically by placer.\n",
      "WARNING:tensorflow:From /Users/jonathansokoll/anaconda3/lib/python3.7/site-packages/keras/backend/tensorflow_backend.py:3445: calling dropout (from tensorflow.python.ops.nn_ops) with keep_prob is deprecated and will be removed in a future version.\n",
      "Instructions for updating:\n",
      "Please use `rate` instead of `keep_prob`. Rate should be set to `rate = 1 - keep_prob`.\n",
      "Train...\n",
      "WARNING:tensorflow:From /Users/jonathansokoll/anaconda3/lib/python3.7/site-packages/tensorflow/python/ops/math_ops.py:3066: to_int32 (from tensorflow.python.ops.math_ops) is deprecated and will be removed in a future version.\n",
      "Instructions for updating:\n",
      "Use tf.cast instead.\n",
      "Train on 25000 samples, validate on 25000 samples\n",
      "Epoch 1/15\n",
      "25000/25000 [==============================] - 96s 4ms/step - loss: 0.4567 - acc: 0.7836 - val_loss: 0.3793 - val_acc: 0.8348\n",
      "Epoch 2/15\n",
      "25000/25000 [==============================] - 93s 4ms/step - loss: 0.2977 - acc: 0.8785 - val_loss: 0.3773 - val_acc: 0.8362\n",
      "Epoch 3/15\n",
      "25000/25000 [==============================] - 91s 4ms/step - loss: 0.2182 - acc: 0.9148 - val_loss: 0.4150 - val_acc: 0.8340\n",
      "Epoch 4/15\n",
      "25000/25000 [==============================] - 90s 4ms/step - loss: 0.1570 - acc: 0.9430 - val_loss: 0.4670 - val_acc: 0.8300\n",
      "Epoch 5/15\n",
      "25000/25000 [==============================] - 92s 4ms/step - loss: 0.1108 - acc: 0.9595 - val_loss: 0.6126 - val_acc: 0.8107\n",
      "Epoch 6/15\n",
      "25000/25000 [==============================] - 92s 4ms/step - loss: 0.0802 - acc: 0.9712 - val_loss: 0.6611 - val_acc: 0.8190\n",
      "Epoch 7/15\n",
      "25000/25000 [==============================] - 92s 4ms/step - loss: 0.0674 - acc: 0.9765 - val_loss: 0.7836 - val_acc: 0.8056\n",
      "Epoch 8/15\n",
      "25000/25000 [==============================] - 91s 4ms/step - loss: 0.0412 - acc: 0.9865 - val_loss: 0.7688 - val_acc: 0.8193\n",
      "Epoch 9/15\n",
      "25000/25000 [==============================] - 94s 4ms/step - loss: 0.0301 - acc: 0.9904 - val_loss: 0.9114 - val_acc: 0.8117\n",
      "Epoch 10/15\n",
      "25000/25000 [==============================] - 93s 4ms/step - loss: 0.0274 - acc: 0.9911 - val_loss: 0.8979 - val_acc: 0.8143\n",
      "Epoch 11/15\n",
      "25000/25000 [==============================] - 91s 4ms/step - loss: 0.0174 - acc: 0.9943 - val_loss: 1.0019 - val_acc: 0.8130\n",
      "Epoch 12/15\n",
      "25000/25000 [==============================] - 92s 4ms/step - loss: 0.0183 - acc: 0.9947 - val_loss: 0.9923 - val_acc: 0.8082\n",
      "Epoch 13/15\n",
      "25000/25000 [==============================] - 91s 4ms/step - loss: 0.0111 - acc: 0.9968 - val_loss: 1.1199 - val_acc: 0.8141\n",
      "Epoch 14/15\n",
      "25000/25000 [==============================] - 94s 4ms/step - loss: 0.0090 - acc: 0.9975 - val_loss: 1.1868 - val_acc: 0.8142\n",
      "Epoch 15/15\n",
      "25000/25000 [==============================] - 92s 4ms/step - loss: 0.0132 - acc: 0.9959 - val_loss: 1.0503 - val_acc: 0.8050\n",
      "25000/25000 [==============================] - 10s 394us/step\n",
      "Test score: 1.0503065874004365\n",
      "Test accuracy: 0.80496\n"
     ]
    }
   ],
   "source": [
    "'''\n",
    "#Trains an LSTM model on the IMDB sentiment classification task.\n",
    "The dataset is actually too small for LSTM to be of any advantage\n",
    "compared to simpler, much faster methods such as TF-IDF + LogReg.\n",
    "**Notes**\n",
    "- RNNs are tricky. Choice of batch size is important,\n",
    "choice of loss and optimizer is critical, etc.\n",
    "Some configurations won't converge.\n",
    "- LSTM loss decrease patterns during training can be quite different\n",
    "from what you see with CNNs/MLPs/etc.\n",
    "'''\n",
    "from __future__ import print_function\n",
    "\n",
    "from keras.preprocessing import sequence\n",
    "from keras.models import Sequential\n",
    "from keras.layers import Dense, Embedding\n",
    "from keras.layers import LSTM\n",
    "from keras.datasets import imdb\n",
    "\n",
    "max_features = 20000\n",
    "# cut texts after this number of words (among top max_features most common words)\n",
    "maxlen = 80\n",
    "batch_size = 32\n",
    "\n",
    "print('Loading data...')\n",
    "(x_train, y_train), (x_test, y_test) = imdb.load_data(num_words=max_features)\n",
    "print(len(x_train), 'train sequences')\n",
    "print(len(x_test), 'test sequences')\n",
    "\n",
    "print('Pad sequences (samples x time)')\n",
    "x_train = sequence.pad_sequences(x_train, maxlen=maxlen)\n",
    "x_test = sequence.pad_sequences(x_test, maxlen=maxlen)\n",
    "print('x_train shape:', x_train.shape)\n",
    "print('x_test shape:', x_test.shape)\n",
    "\n",
    "print('Build model...')\n",
    "model = Sequential()\n",
    "model.add(Embedding(max_features, 128))\n",
    "model.add(LSTM(128, dropout=0.2, recurrent_dropout=0.2))\n",
    "model.add(Dense(1, activation='sigmoid'))\n",
    "\n",
    "# try using different optimizers and different optimizer configs\n",
    "model.compile(loss='binary_crossentropy',\n",
    "              optimizer='adam',\n",
    "              metrics=['accuracy'])\n",
    "\n",
    "print('Train...')\n",
    "model.fit(x_train, y_train,\n",
    "          batch_size=batch_size,\n",
    "          epochs=15,\n",
    "          validation_data=(x_test, y_test))\n",
    "score, acc = model.evaluate(x_test, y_test,\n",
    "                            batch_size=batch_size)\n",
    "print('Test score:', score)\n",
    "print('Test accuracy:', acc)"
   ]
  },
  {
   "cell_type": "markdown",
   "metadata": {
    "colab_type": "text",
    "id": "7pETWPIe362y"
   },
   "source": [
    "### RNN Text generation with NumPy\n",
    "\n",
    "What else can we do with RNN? Since we're analyzing the *sequence*, we can do more than classify - we can *generate* text. We'll pull some news stories using [newspaper](https://github.com/codelucas/newspaper/)."
   ]
  },
  {
   "cell_type": "markdown",
   "metadata": {
    "colab_type": "text",
    "id": "fz1m55G5WSrQ"
   },
   "source": [
    "#### Initialization"
   ]
  },
  {
   "cell_type": "code",
   "execution_count": 25,
   "metadata": {
    "colab": {
     "base_uri": "https://localhost:8080/",
     "height": 836
    },
    "colab_type": "code",
    "id": "ahlHBeoZCaLX",
    "outputId": "7b1c5f93-3fa5-42db-acb6-3c894b0accef"
   },
   "outputs": [
    {
     "name": "stdout",
     "output_type": "stream",
     "text": [
      "Collecting newspaper3k\n",
      "\u001b[?25l  Downloading https://files.pythonhosted.org/packages/d7/b9/51afecb35bb61b188a4b44868001de348a0e8134b4dfa00ffc191567c4b9/newspaper3k-0.2.8-py3-none-any.whl (211kB)\n",
      "\u001b[K    100% |████████████████████████████████| 215kB 865kB/s \n",
      "\u001b[?25hRequirement already satisfied: requests>=2.10.0 in /Users/ljohnson/anaconda3/lib/python3.7/site-packages (from newspaper3k) (2.21.0)\n",
      "Requirement already satisfied: python-dateutil>=2.5.3 in /Users/ljohnson/anaconda3/lib/python3.7/site-packages (from newspaper3k) (2.8.0)\n",
      "Collecting jieba3k>=0.35.1 (from newspaper3k)\n",
      "\u001b[?25l  Downloading https://files.pythonhosted.org/packages/a9/cb/2c8332bcdc14d33b0bedd18ae0a4981a069c3513e445120da3c3f23a8aaa/jieba3k-0.35.1.zip (7.4MB)\n",
      "\u001b[K    100% |████████████████████████████████| 7.4MB 3.1MB/s \n",
      "\u001b[?25hCollecting feedfinder2>=0.0.4 (from newspaper3k)\n",
      "  Downloading https://files.pythonhosted.org/packages/35/82/1251fefec3bb4b03fd966c7e7f7a41c9fc2bb00d823a34c13f847fd61406/feedfinder2-0.0.4.tar.gz\n",
      "Requirement already satisfied: lxml>=3.6.0 in /Users/ljohnson/anaconda3/lib/python3.7/site-packages (from newspaper3k) (4.3.2)\n",
      "Requirement already satisfied: nltk>=3.2.1 in /Users/ljohnson/anaconda3/lib/python3.7/site-packages (from newspaper3k) (3.4.4)\n",
      "Collecting feedparser>=5.2.1 (from newspaper3k)\n",
      "\u001b[?25l  Downloading https://files.pythonhosted.org/packages/91/d8/7d37fec71ff7c9dbcdd80d2b48bcdd86d6af502156fc93846fb0102cb2c4/feedparser-5.2.1.tar.bz2 (192kB)\n",
      "\u001b[K    100% |████████████████████████████████| 194kB 7.8MB/s \n",
      "\u001b[?25hCollecting cssselect>=0.9.2 (from newspaper3k)\n",
      "  Downloading https://files.pythonhosted.org/packages/7b/44/25b7283e50585f0b4156960691d951b05d061abf4a714078393e51929b30/cssselect-1.0.3-py2.py3-none-any.whl\n",
      "Requirement already satisfied: PyYAML>=3.11 in /Users/ljohnson/anaconda3/lib/python3.7/site-packages (from newspaper3k) (5.1)\n",
      "Requirement already satisfied: Pillow>=3.3.0 in /Users/ljohnson/anaconda3/lib/python3.7/site-packages (from newspaper3k) (5.4.1)\n",
      "Collecting tldextract>=2.0.1 (from newspaper3k)\n",
      "\u001b[?25l  Downloading https://files.pythonhosted.org/packages/1e/90/18ac0e5340b6228c25cc8e79835c3811e7553b2b9ae87296dfeb62b7866d/tldextract-2.2.1-py2.py3-none-any.whl (48kB)\n",
      "\u001b[K    100% |████████████████████████████████| 51kB 5.9MB/s \n",
      "\u001b[?25hRequirement already satisfied: beautifulsoup4>=4.4.1 in /Users/ljohnson/anaconda3/lib/python3.7/site-packages (from newspaper3k) (4.7.1)\n",
      "Collecting tinysegmenter==0.3 (from newspaper3k)\n",
      "  Downloading https://files.pythonhosted.org/packages/17/82/86982e4b6d16e4febc79c2a1d68ee3b707e8a020c5d2bc4af8052d0f136a/tinysegmenter-0.3.tar.gz\n",
      "Requirement already satisfied: idna<2.9,>=2.5 in /Users/ljohnson/anaconda3/lib/python3.7/site-packages (from requests>=2.10.0->newspaper3k) (2.8)\n",
      "Requirement already satisfied: chardet<3.1.0,>=3.0.2 in /Users/ljohnson/anaconda3/lib/python3.7/site-packages (from requests>=2.10.0->newspaper3k) (3.0.4)\n",
      "Requirement already satisfied: urllib3<1.25,>=1.21.1 in /Users/ljohnson/anaconda3/lib/python3.7/site-packages (from requests>=2.10.0->newspaper3k) (1.24.1)\n",
      "Requirement already satisfied: certifi>=2017.4.17 in /Users/ljohnson/anaconda3/lib/python3.7/site-packages (from requests>=2.10.0->newspaper3k) (2019.3.9)\n",
      "Requirement already satisfied: six>=1.5 in /Users/ljohnson/anaconda3/lib/python3.7/site-packages (from python-dateutil>=2.5.3->newspaper3k) (1.12.0)\n",
      "Requirement already satisfied: setuptools in /Users/ljohnson/anaconda3/lib/python3.7/site-packages (from tldextract>=2.0.1->newspaper3k) (40.8.0)\n",
      "Collecting requests-file>=1.4 (from tldextract>=2.0.1->newspaper3k)\n",
      "  Downloading https://files.pythonhosted.org/packages/23/9c/6e63c23c39e53d3df41c77a3d05a49a42c4e1383a6d2a5e3233161b89dbf/requests_file-1.4.3-py2.py3-none-any.whl\n",
      "Requirement already satisfied: soupsieve>=1.2 in /Users/ljohnson/anaconda3/lib/python3.7/site-packages (from beautifulsoup4>=4.4.1->newspaper3k) (1.8)\n",
      "Building wheels for collected packages: jieba3k, feedfinder2, feedparser, tinysegmenter\n",
      "  Building wheel for jieba3k (setup.py) ... \u001b[?25ldone\n",
      "\u001b[?25h  Stored in directory: /Users/ljohnson/Library/Caches/pip/wheels/83/15/9c/a3f1f67e7f7181170ad37d32e503c35da20627c013f438ed34\n",
      "  Building wheel for feedfinder2 (setup.py) ... \u001b[?25ldone\n",
      "\u001b[?25h  Stored in directory: /Users/ljohnson/Library/Caches/pip/wheels/de/03/ca/778e3a7a627e3d98836cc890e7cb40c7575424cfd3340f40ed\n",
      "  Building wheel for feedparser (setup.py) ... \u001b[?25ldone\n",
      "\u001b[?25h  Stored in directory: /Users/ljohnson/Library/Caches/pip/wheels/8c/69/b7/f52763c41c5471df57703a0ef718a32a5e81ee35dcf6d4f97f\n",
      "  Building wheel for tinysegmenter (setup.py) ... \u001b[?25ldone\n",
      "\u001b[?25h  Stored in directory: /Users/ljohnson/Library/Caches/pip/wheels/81/2b/43/a02ede72324dd40cdd7ca53aad718c7710628e91b8b0dc0f02\n",
      "Successfully built jieba3k feedfinder2 feedparser tinysegmenter\n",
      "Installing collected packages: jieba3k, feedfinder2, feedparser, cssselect, requests-file, tldextract, tinysegmenter, newspaper3k\n",
      "Successfully installed cssselect-1.0.3 feedfinder2-0.0.4 feedparser-5.2.1 jieba3k-0.35.1 newspaper3k-0.2.8 requests-file-1.4.3 tinysegmenter-0.3 tldextract-2.2.1\n"
     ]
    }
   ],
   "source": [
    "!pip install newspaper3k"
   ]
  },
  {
   "cell_type": "code",
   "execution_count": 26,
   "metadata": {
    "colab": {},
    "colab_type": "code",
    "id": "fTPlziljCiNJ"
   },
   "outputs": [],
   "source": [
    "import newspaper"
   ]
  },
  {
   "cell_type": "code",
   "execution_count": 27,
   "metadata": {
    "colab": {
     "base_uri": "https://localhost:8080/",
     "height": 34
    },
    "colab_type": "code",
    "id": "bk9JF2zaCxoO",
    "outputId": "9e66fc15-a397-4b59-f810-d2182565c99a"
   },
   "outputs": [
    {
     "data": {
      "text/plain": [
       "36"
      ]
     },
     "execution_count": 27,
     "metadata": {},
     "output_type": "execute_result"
    }
   ],
   "source": [
    "ap = newspaper.build('https://www.apnews.com')\n",
    "len(ap.articles)"
   ]
  },
  {
   "cell_type": "code",
   "execution_count": 28,
   "metadata": {
    "colab": {
     "base_uri": "https://localhost:8080/",
     "height": 54
    },
    "colab_type": "code",
    "id": "Vc6JgAIJDF4E",
    "outputId": "44a13922-d86a-4668-c4fd-455c0d03b6c1"
   },
   "outputs": [
    {
     "name": "stdout",
     "output_type": "stream",
     "text": [
      "The Summer Olympics will return to Tokyo next year for the first time since 1964. The world's best athletes will be on display, of course, but so will Japan's sprawling capital _ a dense mix of the traditional and the eccentric.\n"
     ]
    }
   ],
   "source": [
    "article_text = ''\n",
    "\n",
    "for article in ap.articles[:1]:\n",
    "  try:\n",
    "    article.download()\n",
    "    article.parse()\n",
    "    article_text += '\\n\\n' + article.text\n",
    "  except:\n",
    "    print('Failed: ' + article.url)\n",
    "  \n",
    "article_text = article_text.split('\\n\\n')[1]\n",
    "print(article_text)"
   ]
  },
  {
   "cell_type": "code",
   "execution_count": 29,
   "metadata": {
    "colab": {
     "base_uri": "https://localhost:8080/",
     "height": 52
    },
    "colab_type": "code",
    "id": "rsMBBMcv_nRM",
    "outputId": "9f77b07b-4a5a-4ac8-f1b3-79e1a5331fad"
   },
   "outputs": [
    {
     "name": "stdout",
     "output_type": "stream",
     "text": [
      "unique characters :  35\n",
      "txt_data_size :  228\n"
     ]
    }
   ],
   "source": [
    "# Based on \"The Unreasonable Effectiveness of RNN\" implementation\n",
    "import numpy as np\n",
    "\n",
    "chars = list(set(article_text)) # split and remove duplicate characters. convert to list.\n",
    "\n",
    "num_chars = len(chars) # the number of unique characters\n",
    "txt_data_size = len(article_text)\n",
    "\n",
    "print(\"unique characters : \", num_chars)\n",
    "print(\"txt_data_size : \", txt_data_size)"
   ]
  },
  {
   "cell_type": "code",
   "execution_count": 30,
   "metadata": {
    "colab": {
     "base_uri": "https://localhost:8080/",
     "height": 159
    },
    "colab_type": "code",
    "id": "aQygqc_CAWRA",
    "outputId": "30c45e95-057a-4643-9cae-fc518b49c914"
   },
   "outputs": [
    {
     "name": "stdout",
     "output_type": "stream",
     "text": [
      "{'O': 0, '9': 1, \"'\": 2, 'o': 3, '.': 4, 'p': 5, 'e': 6, 'S': 7, 'c': 8, 'y': 9, 'x': 10, 'r': 11, 'd': 12, '1': 13, 'J': 14, 'i': 15, 'm': 16, '_': 17, 't': 18, 'g': 19, 'a': 20, 's': 21, '6': 22, 'T': 23, 'k': 24, ',': 25, 'w': 26, ' ': 27, 'n': 28, 'h': 29, '4': 30, 'f': 31, 'l': 32, 'u': 33, 'b': 34}\n",
      "----------------------------------------------------\n",
      "{0: 'O', 1: '9', 2: \"'\", 3: 'o', 4: '.', 5: 'p', 6: 'e', 7: 'S', 8: 'c', 9: 'y', 10: 'x', 11: 'r', 12: 'd', 13: '1', 14: 'J', 15: 'i', 16: 'm', 17: '_', 18: 't', 19: 'g', 20: 'a', 21: 's', 22: '6', 23: 'T', 24: 'k', 25: ',', 26: 'w', 27: ' ', 28: 'n', 29: 'h', 30: '4', 31: 'f', 32: 'l', 33: 'u', 34: 'b'}\n",
      "----------------------------------------------------\n",
      "[23, 29, 6, 27, 7, 33, 16, 16, 6, 11, 27, 0, 32, 9, 16, 5, 15, 8, 21, 27, 26, 15, 32, 32, 27, 11, 6, 18, 33, 11, 28, 27, 18, 3, 27, 23, 3, 24, 9, 3, 27, 28, 6, 10, 18, 27, 9, 6, 20, 11, 27, 31, 3, 11, 27, 18, 29, 6, 27, 31, 15, 11, 21, 18, 27, 18, 15, 16, 6, 27, 21, 15, 28, 8, 6, 27, 13, 1, 22, 30, 4, 27, 23, 29, 6, 27, 26, 3, 11, 32, 12, 2, 21, 27, 34, 6, 21, 18, 27, 20, 18, 29, 32, 6, 18, 6, 21, 27, 26, 15, 32, 32, 27, 34, 6, 27, 3, 28, 27, 12, 15, 21, 5, 32, 20, 9, 25, 27, 3, 31, 27, 8, 3, 33, 11, 21, 6, 25, 27, 34, 33, 18, 27, 21, 3, 27, 26, 15, 32, 32, 27, 14, 20, 5, 20, 28, 2, 21, 27, 21, 5, 11, 20, 26, 32, 15, 28, 19, 27, 8, 20, 5, 15, 18, 20, 32, 27, 17, 27, 20, 27, 12, 6, 28, 21, 6, 27, 16, 15, 10, 27, 3, 31, 27, 18, 29, 6, 27, 18, 11, 20, 12, 15, 18, 15, 3, 28, 20, 32, 27, 20, 28, 12, 27, 18, 29, 6, 27, 6, 8, 8, 6, 28, 18, 11, 15, 8, 4]\n",
      "----------------------------------------------------\n",
      "data length :  228\n"
     ]
    }
   ],
   "source": [
    "# one hot encode\n",
    "char_to_int = dict((c, i) for i, c in enumerate(chars)) # \"enumerate\" retruns index and value. Convert it to dictionary\n",
    "int_to_char = dict((i, c) for i, c in enumerate(chars))\n",
    "print(char_to_int)\n",
    "print(\"----------------------------------------------------\")\n",
    "print(int_to_char)\n",
    "print(\"----------------------------------------------------\")\n",
    "# integer encode input data\n",
    "integer_encoded = [char_to_int[i] for i in article_text] # \"integer_encoded\" is a list which has a sequence converted from an original data to integers.\n",
    "print(integer_encoded)\n",
    "print(\"----------------------------------------------------\")\n",
    "print(\"data length : \", len(integer_encoded))"
   ]
  },
  {
   "cell_type": "code",
   "execution_count": 31,
   "metadata": {
    "colab": {},
    "colab_type": "code",
    "id": "bcpMSWDHFowT"
   },
   "outputs": [],
   "source": [
    "# hyperparameters\n",
    "\n",
    "iteration = 1000\n",
    "sequence_length = 40\n",
    "batch_size = round((txt_data_size /sequence_length)+0.5) # = math.ceil\n",
    "hidden_size = 500  # size of hidden layer of neurons.  \n",
    "learning_rate = 1e-1\n",
    "\n",
    "\n",
    "# model parameters\n",
    "\n",
    "W_xh = np.random.randn(hidden_size, num_chars)*0.01     # weight input -> hidden. \n",
    "W_hh = np.random.randn(hidden_size, hidden_size)*0.01   # weight hidden -> hidden\n",
    "W_hy = np.random.randn(num_chars, hidden_size)*0.01     # weight hidden -> output\n",
    "\n",
    "b_h = np.zeros((hidden_size, 1)) # hidden bias\n",
    "b_y = np.zeros((num_chars, 1)) # output bias\n",
    "\n",
    "h_prev = np.zeros((hidden_size,1)) # h_(t-1)"
   ]
  },
  {
   "cell_type": "markdown",
   "metadata": {
    "colab_type": "text",
    "id": "bkqoN86qWaI4"
   },
   "source": [
    "#### Forward propagation"
   ]
  },
  {
   "cell_type": "code",
   "execution_count": 32,
   "metadata": {
    "colab": {},
    "colab_type": "code",
    "id": "imfg_Ew0WdDL"
   },
   "outputs": [],
   "source": [
    "def forwardprop(inputs, targets, h_prev):\n",
    "        \n",
    "    # Since the RNN receives the sequence, the weights are not updated during one sequence.\n",
    "    xs, hs, ys, ps = {}, {}, {}, {} # dictionary\n",
    "    hs[-1] = np.copy(h_prev) # Copy previous hidden state vector to -1 key value.\n",
    "    loss = 0 # loss initialization\n",
    "    \n",
    "    for t in range(len(inputs)): # t is a \"time step\" and is used as a key(dic).  \n",
    "        \n",
    "        xs[t] = np.zeros((num_chars,1)) \n",
    "        xs[t][inputs[t]] = 1\n",
    "        hs[t] = np.tanh(np.dot(W_xh, xs[t]) + np.dot(W_hh, hs[t-1]) + b_h) # hidden state. \n",
    "        ys[t] = np.dot(W_hy, hs[t]) + b_y # unnormalized log probabilities for next chars\n",
    "        ps[t] = np.exp(ys[t]) / np.sum(np.exp(ys[t])) # probabilities for next chars. \n",
    "        \n",
    "        # Softmax. -> The sum of probabilities is 1 even without the exp() function, but all of the elements are positive through the exp() function.\n",
    "        loss += -np.log(ps[t][targets[t],0]) # softmax (cross-entropy loss). Efficient and simple code\n",
    "\n",
    "#         y_class = np.zeros((num_chars, 1)) \n",
    "#         y_class[targets[t]] =1\n",
    "#         loss += np.sum(y_class*(-np.log(ps[t]))) # softmax (cross-entropy loss)        \n",
    "\n",
    "    return loss, ps, hs, xs"
   ]
  },
  {
   "cell_type": "markdown",
   "metadata": {
    "colab_type": "text",
    "id": "zm6qwNiqWdMe"
   },
   "source": [
    "#### Backward propagation"
   ]
  },
  {
   "cell_type": "code",
   "execution_count": 33,
   "metadata": {
    "colab": {},
    "colab_type": "code",
    "id": "81qBiz_xWenI"
   },
   "outputs": [],
   "source": [
    "def backprop(ps, inputs, hs, xs, targets):\n",
    "\n",
    "    dWxh, dWhh, dWhy = np.zeros_like(W_xh), np.zeros_like(W_hh), np.zeros_like(W_hy) # make all zero matrices.\n",
    "    dbh, dby = np.zeros_like(b_h), np.zeros_like(b_y)\n",
    "    dhnext = np.zeros_like(hs[0]) # (hidden_size,1) \n",
    "\n",
    "    # reversed\n",
    "    for t in reversed(range(len(inputs))):\n",
    "        dy = np.copy(ps[t]) # shape (num_chars,1).  \"dy\" means \"dloss/dy\"\n",
    "        dy[targets[t]] -= 1 # backprop into y. After taking the soft max in the input vector, subtract 1 from the value of the element corresponding to the correct label.\n",
    "        dWhy += np.dot(dy, hs[t].T)\n",
    "        dby += dy \n",
    "        dh = np.dot(W_hy.T, dy) + dhnext # backprop into h. \n",
    "        dhraw = (1 - hs[t] * hs[t]) * dh # backprop through tanh nonlinearity #tanh'(x) = 1-tanh^2(x)\n",
    "        dbh += dhraw\n",
    "        dWxh += np.dot(dhraw, xs[t].T)\n",
    "        dWhh += np.dot(dhraw, hs[t-1].T)\n",
    "        dhnext = np.dot(W_hh.T, dhraw)\n",
    "    for dparam in [dWxh, dWhh, dWhy, dbh, dby]: \n",
    "        np.clip(dparam, -5, 5, out=dparam) # clip to mitigate exploding gradients.  \n",
    "    \n",
    "    return dWxh, dWhh, dWhy, dbh, dby"
   ]
  },
  {
   "cell_type": "markdown",
   "metadata": {
    "colab_type": "text",
    "id": "r8sBvcdbWfhi"
   },
   "source": [
    "#### Training"
   ]
  },
  {
   "cell_type": "code",
   "execution_count": 34,
   "metadata": {
    "colab": {
     "base_uri": "https://localhost:8080/",
     "height": 225
    },
    "colab_type": "code",
    "id": "iA4RM70LWgO_",
    "outputId": "0fd64bca-f1b5-4be1-9e80-076308365598"
   },
   "outputs": [
    {
     "name": "stdout",
     "output_type": "stream",
     "text": [
      "iter 0, loss: 864.651312\n",
      "iter 100, loss: 72.119938\n",
      "iter 200, loss: 62.837261\n",
      "iter 300, loss: 55.224065\n",
      "iter 400, loss: 45.753271\n",
      "iter 500, loss: 36.920905\n",
      "iter 600, loss: 30.159020\n",
      "iter 700, loss: 29.659068\n",
      "iter 800, loss: 21.946688\n",
      "iter 900, loss: 23.130997\n",
      "CPU times: user 7min 50s, sys: 7.9 s, total: 7min 58s\n",
      "Wall time: 4min 8s\n"
     ]
    }
   ],
   "source": [
    "%%time\n",
    "\n",
    "data_pointer = 0\n",
    "\n",
    "# memory variables for Adagrad\n",
    "mWxh, mWhh, mWhy = np.zeros_like(W_xh), np.zeros_like(W_hh), np.zeros_like(W_hy)\n",
    "mbh, mby = np.zeros_like(b_h), np.zeros_like(b_y) \n",
    "\n",
    "for i in range(iteration):\n",
    "    h_prev = np.zeros((hidden_size,1)) # reset RNN memory\n",
    "    data_pointer = 0 # go from start of data\n",
    "    \n",
    "    for b in range(batch_size):\n",
    "        \n",
    "        inputs = [char_to_int[ch] for ch in article_text[data_pointer:data_pointer+sequence_length]]\n",
    "        targets = [char_to_int[ch] for ch in article_text[data_pointer+1:data_pointer+sequence_length+1]] # t+1        \n",
    "            \n",
    "        if (data_pointer+sequence_length+1 >= len(article_text) and b == batch_size-1): # processing of the last part of the input data. \n",
    "#             targets.append(char_to_int[txt_data[0]])   # When the data doesn't fit, add the first char to the back.\n",
    "            targets.append(char_to_int[\" \"])   # When the data doesn't fit, add space(\" \") to the back.\n",
    "\n",
    "\n",
    "        # forward\n",
    "        loss, ps, hs, xs = forwardprop(inputs, targets, h_prev)\n",
    "#         print(loss)\n",
    "    \n",
    "        # backward\n",
    "        dWxh, dWhh, dWhy, dbh, dby = backprop(ps, inputs, hs, xs, targets) \n",
    "        \n",
    "        \n",
    "    # perform parameter update with Adagrad\n",
    "        for param, dparam, mem in zip([W_xh, W_hh, W_hy, b_h, b_y], \n",
    "                                    [dWxh, dWhh, dWhy, dbh, dby], \n",
    "                                    [mWxh, mWhh, mWhy, mbh, mby]):\n",
    "            mem += dparam * dparam # elementwise\n",
    "            param += -learning_rate * dparam / np.sqrt(mem + 1e-8) # adagrad update      \n",
    "    \n",
    "        data_pointer += sequence_length # move data pointer\n",
    "        \n",
    "    if i % 100 == 0:\n",
    "        print ('iter %d, loss: %f' % (i, loss)) # print progress"
   ]
  },
  {
   "cell_type": "markdown",
   "metadata": {
    "colab_type": "text",
    "id": "tjh8Ip68WgYV"
   },
   "source": [
    "#### Prediction"
   ]
  },
  {
   "cell_type": "code",
   "execution_count": 35,
   "metadata": {
    "colab": {},
    "colab_type": "code",
    "id": "HDCxDNPG68Hx"
   },
   "outputs": [],
   "source": [
    "def predict(test_char, length):\n",
    "    x = np.zeros((num_chars, 1)) \n",
    "    x[char_to_int[test_char]] = 1\n",
    "    ixes = []\n",
    "    h = np.zeros((hidden_size,1))\n",
    "\n",
    "    for t in range(length):\n",
    "        h = np.tanh(np.dot(W_xh, x) + np.dot(W_hh, h) + b_h) \n",
    "        y = np.dot(W_hy, h) + b_y\n",
    "        p = np.exp(y) / np.sum(np.exp(y)) \n",
    "        ix = np.random.choice(range(num_chars), p=p.ravel()) # ravel -> rank0\n",
    "        # \"ix\" is a list of indexes selected according to the soft max probability.\n",
    "        x = np.zeros((num_chars, 1)) # init\n",
    "        x[ix] = 1 \n",
    "        ixes.append(ix) # list\n",
    "    txt = test_char + ''.join(int_to_char[i] for i in ixes)\n",
    "    print ('----\\n %s \\n----' % (txt, ))"
   ]
  },
  {
   "cell_type": "code",
   "execution_count": 36,
   "metadata": {
    "colab": {
     "base_uri": "https://localhost:8080/",
     "height": 69
    },
    "colab_type": "code",
    "id": "nGVhl-Gxh6N6",
    "outputId": "e0c8b70b-fb50-4000-f4f8-a572539513db"
   },
   "outputs": [
    {
     "name": "stdout",
     "output_type": "stream",
     "text": [
      "----\n",
      " The Summese but scd will _ a de6f the trathl _ a de \n",
      "----\n"
     ]
    }
   ],
   "source": [
    "predict('T', 50)"
   ]
  },
  {
   "cell_type": "markdown",
   "metadata": {
    "colab_type": "text",
    "id": "xPsz-oefL1kP"
   },
   "source": [
    "Well... that's *vaguely* language-looking. Can you do better?"
   ]
  },
  {
   "cell_type": "markdown",
   "metadata": {
    "colab_type": "text",
    "id": "0lfZdD_cp1t5"
   },
   "source": [
    "# Assignment\n",
    "\n",
    "![Monkey at a typewriter](https://upload.wikimedia.org/wikipedia/commons/thumb/3/3c/Chimpanzee_seated_at_typewriter.jpg/603px-Chimpanzee_seated_at_typewriter.jpg)\n",
    "\n",
    "It is said that [infinite monkeys typing for an infinite amount of time](https://en.wikipedia.org/wiki/Infinite_monkey_theorem) will eventually type, among other things, the complete works of Wiliam Shakespeare. Let's see if we can get there a bit faster, with the power of Recurrent Neural Networks and LSTM.\n",
    "\n",
    "This text file contains the complete works of Shakespeare: https://www.gutenberg.org/files/100/100-0.txt\n",
    "\n",
    "Use it as training data for an RNN - you can keep it simple and train character level, and that is suggested as an initial approach.\n",
    "\n",
    "Then, use that trained RNN to generate Shakespearean-ish text. Your goal - a function that can take, as an argument, the size of text (e.g. number of characters or lines) to generate, and returns generated text of that size.\n",
    "\n",
    "Note - Shakespeare wrote an awful lot. It's OK, especially initially, to sample/use smaller data and parameters, so you can have a tighter feedback loop when you're trying to get things running. Then, once you've got a proof of concept - start pushing it more!"
   ]
  },
  {
   "cell_type": "code",
   "execution_count": 58,
   "metadata": {},
   "outputs": [
    {
     "name": "stdout",
     "output_type": "stream",
     "text": [
      "﻿\n",
      "Project Gutenberg’s The Complete Works of William Shakespeare, by William\n",
      "Shakespeare\n",
      "\n",
      "This eBook is for the use of anyone anywhere in the United States and\n",
      "most other parts of the world at no cost and with almost no restrictions\n",
      "whatsoever.  You may copy it, give it away or re-use it under the te\n"
     ]
    }
   ],
   "source": [
    "f = open('shakespeare.txt')\n",
    "contents = f.read()\n",
    "print(contents[0:300])"
   ]
  },
  {
   "cell_type": "code",
   "execution_count": 59,
   "metadata": {},
   "outputs": [
    {
     "data": {
      "text/plain": [
       "5586357"
      ]
     },
     "execution_count": 59,
     "metadata": {},
     "output_type": "execute_result"
    }
   ],
   "source": [
    "len(contents)"
   ]
  },
  {
   "cell_type": "code",
   "execution_count": 86,
   "metadata": {},
   "outputs": [
    {
     "name": "stdout",
     "output_type": "stream",
     "text": [
      "\n",
      "THE SONNETS\n",
      "\n",
      "                    1\n",
      "\n",
      "From fairest creatures we desire increase,\n",
      "That thereby beauty’s rose might never die,\n",
      "But as the riper should by time decease,\n",
      "His tender heir might bear his memory:\n",
      "But thou contracted to thine own bright eyes,\n",
      "Feed’st thy light’s flame with self-substantial fuel,\n",
      "Making a famine where abundance lies,\n",
      "Thy self thy foe, to thy sweet self too cruel:\n",
      "Thou that art now the world’s fresh ornament,\n",
      "And only herald to the gaudy spring,\n",
      "Within thine own bud buriest thy content,\n",
      "And, tender churl, mak’st waste in niggarding:\n",
      "  Pity the world, or else this glutton be,\n",
      "  To eat the world’s due, by the grave and thee.\n",
      "\n",
      "\n",
      "                    2\n",
      "\n",
      "When forty winters shall besiege thy brow,\n",
      "And dig deep trenches in thy beauty’s field,\n",
      "Thy youth’s proud livery so gazed on now,\n",
      "Will be a tattered weed of small worth held:\n",
      "Then being asked, where all thy beauty lies,\n",
      "Where all the treasure of thy lusty days;\n",
      "To say, within thine own deep sunken eyes,\n",
      "Were an all-eating shame, and thriftless praise.\n",
      "How much more praise deserv’d thy beauty’s use,\n",
      "If thou couldst answer ‘This fair child of mine\n",
      "Shall sum my count, and make my old excuse,’\n",
      "Proving his beauty by succession thine.\n",
      "  This were to be new made when thou art old,\n",
      "  And see thy blood warm when thou feel’st it cold.\n",
      "\n",
      "\n",
      "                    3\n",
      "\n",
      "Look in thy glass and tell the face thou viewest,\n",
      "Now is the time that face should form another,\n",
      "Whose fresh repair if now thou not renewest,\n",
      "Thou dost beguile the world, unbless some mother.\n",
      "For where is she so fair whose uneared womb\n",
      "Disdains the tillage of thy husbandry?\n",
      "Or who is he so fond will be the tomb\n",
      "Of his self-love to stop posterity?\n",
      "Thou art thy mother’s glass and she in thee\n",
      "Calls back the lovely April of her prime,\n",
      "So thou through windows of thine age shalt see,\n",
      "Despite of wrinkles this thy golden time.\n",
      "  But if thou live remembered not to be,\n",
      "  Die single and thine image dies with thee.\n",
      "\n",
      "\n",
      "                    4\n",
      "\n",
      "Unthrifty loveliness why dost thou spend,\n",
      "Upon thy self thy beauty’s legacy?\n",
      "Nature’s bequest gives nothing but doth lend,\n",
      "And being frank she lends to those are free:\n",
      "Then beauteous niggard why dost thou abuse,\n",
      "The bounteous largess given thee to give?\n",
      "Profitless usurer why dost thou use\n",
      "So great a sum of sums yet canst not live?\n",
      "For having traffic with thy self alone,\n",
      "Thou of thy self thy sweet self dost deceive,\n",
      "Then how when nature calls thee to be gone,\n",
      "What acceptable audit canst thou leave?\n",
      "  Thy unused beauty must be tombed with thee,\n",
      "  Which used lives th’ executor to be.\n",
      "\n",
      "\n",
      "                    5\n",
      "\n",
      "Those hours that with gentle work did frame\n",
      "The lovely gaze where every eye doth dwell\n",
      "Will play the tyrants to the very same,\n",
      "And that unfair which fairly doth excel:\n",
      "For never-resting time leads summer on\n",
      "To hideous winter and confounds him there,\n",
      "Sap checked with frost and lusty leaves quite gone,\n",
      "Beauty o’er-snowed and bareness every where:\n",
      "Then were not summer’s distillation left\n",
      "A liquid prisoner pent in walls of glass,\n",
      "Beauty’s effect with beauty were bereft,\n",
      "Nor it nor no remembrance what it was.\n",
      "  But flowers distilled though they with winter meet,\n",
      "  Leese but their sho\n"
     ]
    }
   ],
   "source": [
    "# start with a small sample of 5 sonnets\n",
    "\n",
    "sonnets = contents[2830:6000]\n",
    "print(sonnets)"
   ]
  },
  {
   "cell_type": "code",
   "execution_count": 87,
   "metadata": {},
   "outputs": [
    {
     "name": "stdout",
     "output_type": "stream",
     "text": [
      "unique characters :  57\n",
      "txt_data_size :  3170\n"
     ]
    }
   ],
   "source": [
    "chars = list(set(sonnets)) # split and remove duplicate characters. convert to list.\n",
    "\n",
    "num_chars = len(chars) # the number of unique characters\n",
    "txt_data_size = len(sonnets)\n",
    "\n",
    "print(\"unique characters : \", num_chars)\n",
    "print(\"txt_data_size : \", txt_data_size)"
   ]
  },
  {
   "cell_type": "code",
   "execution_count": 88,
   "metadata": {},
   "outputs": [
    {
     "name": "stdout",
     "output_type": "stream",
     "text": [
      "{'v': 0, 'O': 1, '?': 2, 'I': 3, 'o': 4, '-': 5, '.': 6, 'p': 7, 'e': 8, 'L': 9, 'S': 10, 'W': 11, 'c': 12, 'P': 13, '\\n': 14, '‘': 15, 'y': 16, 'N': 17, ':': 18, '3': 19, 'x': 20, 'F': 21, 'r': 22, 'd': 23, 'D': 24, 'E': 25, '1': 26, 'B': 27, 'i': 28, 'm': 29, 't': 30, 'g': 31, 'a': 32, 's': 33, 'T': 34, 'M': 35, 'k': 36, ',': 37, 'w': 38, ';': 39, 'q': 40, '’': 41, 'z': 42, ' ': 43, 'H': 44, 'C': 45, 'A': 46, 'n': 47, 'h': 48, '4': 49, 'U': 50, 'f': 51, '5': 52, 'l': 53, '2': 54, 'u': 55, 'b': 56}\n",
      "----------------------------------------------------\n",
      "{0: 'v', 1: 'O', 2: '?', 3: 'I', 4: 'o', 5: '-', 6: '.', 7: 'p', 8: 'e', 9: 'L', 10: 'S', 11: 'W', 12: 'c', 13: 'P', 14: '\\n', 15: '‘', 16: 'y', 17: 'N', 18: ':', 19: '3', 20: 'x', 21: 'F', 22: 'r', 23: 'd', 24: 'D', 25: 'E', 26: '1', 27: 'B', 28: 'i', 29: 'm', 30: 't', 31: 'g', 32: 'a', 33: 's', 34: 'T', 35: 'M', 36: 'k', 37: ',', 38: 'w', 39: ';', 40: 'q', 41: '’', 42: 'z', 43: ' ', 44: 'H', 45: 'C', 46: 'A', 47: 'n', 48: 'h', 49: '4', 50: 'U', 51: 'f', 52: '5', 53: 'l', 54: '2', 55: 'u', 56: 'b'}\n",
      "----------------------------------------------------\n",
      "[14, 34, 44, 25, 43, 10, 1, 17, 17, 25, 34, 10, 14, 14, 43, 43, 43, 43, 43, 43, 43, 43, 43, 43, 43, 43, 43, 43, 43, 43, 43, 43, 43, 43, 26, 14, 14, 21, 22, 4, 29, 43, 51, 32, 28, 22, 8, 33, 30, 43, 12, 22, 8, 32, 30, 55, 22, 8, 33, 43, 38, 8, 43, 23, 8, 33, 28, 22, 8, 43, 28, 47, 12, 22, 8, 32, 33, 8, 37, 14, 34, 48, 32, 30, 43, 30, 48, 8, 22, 8, 56, 16, 43, 56, 8, 32, 55, 30, 16, 41, 33, 43, 22, 4, 33, 8, 43, 29, 28, 31, 48, 30, 43, 47, 8, 0, 8, 22, 43, 23, 28, 8, 37, 14, 27, 55, 30, 43, 32, 33, 43, 30, 48, 8, 43, 22, 28, 7, 8, 22, 43, 33, 48, 4, 55, 53, 23, 43, 56, 16, 43, 30, 28, 29, 8, 43, 23, 8, 12, 8, 32, 33, 8, 37, 14, 44, 28, 33, 43, 30, 8, 47, 23, 8, 22, 43, 48, 8, 28, 22, 43, 29, 28, 31, 48, 30, 43, 56, 8, 32, 22, 43, 48, 28, 33, 43, 29, 8, 29, 4, 22, 16, 18, 14, 27, 55, 30, 43, 30, 48, 4, 55, 43, 12, 4, 47, 30, 22, 32, 12, 30, 8, 23, 43, 30, 4, 43, 30, 48, 28, 47, 8, 43, 4, 38, 47, 43, 56, 22, 28, 31, 48, 30, 43, 8, 16, 8, 33, 37, 14, 21, 8, 8, 23, 41, 33, 30, 43, 30, 48, 16, 43, 53, 28, 31, 48, 30, 41, 33, 43, 51, 53, 32, 29, 8, 43, 38, 28, 30, 48, 43, 33, 8, 53, 51, 5, 33, 55, 56, 33, 30, 32, 47, 30, 28, 32, 53, 43, 51, 55, 8, 53, 37, 14, 35, 32, 36, 28, 47, 31, 43, 32, 43, 51, 32, 29, 28, 47, 8, 43, 38, 48, 8, 22, 8, 43, 32, 56, 55, 47, 23, 32, 47, 12, 8, 43, 53, 28, 8, 33, 37, 14, 34, 48, 16, 43, 33, 8, 53, 51, 43, 30, 48, 16, 43, 51, 4, 8, 37, 43, 30, 4, 43, 30, 48, 16, 43, 33, 38, 8, 8, 30, 43, 33, 8, 53, 51, 43, 30, 4, 4, 43, 12, 22, 55, 8, 53, 18, 14, 34, 48, 4, 55, 43, 30, 48, 32, 30, 43, 32, 22, 30, 43, 47, 4, 38, 43, 30, 48, 8, 43, 38, 4, 22, 53, 23, 41, 33, 43, 51, 22, 8, 33, 48, 43, 4, 22, 47, 32, 29, 8, 47, 30, 37, 14, 46, 47, 23, 43, 4, 47, 53, 16, 43, 48, 8, 22, 32, 53, 23, 43, 30, 4, 43, 30, 48, 8, 43, 31, 32, 55, 23, 16, 43, 33, 7, 22, 28, 47, 31, 37, 14, 11, 28, 30, 48, 28, 47, 43, 30, 48, 28, 47, 8, 43, 4, 38, 47, 43, 56, 55, 23, 43, 56, 55, 22, 28, 8, 33, 30, 43, 30, 48, 16, 43, 12, 4, 47, 30, 8, 47, 30, 37, 14, 46, 47, 23, 37, 43, 30, 8, 47, 23, 8, 22, 43, 12, 48, 55, 22, 53, 37, 43, 29, 32, 36, 41, 33, 30, 43, 38, 32, 33, 30, 8, 43, 28, 47, 43, 47, 28, 31, 31, 32, 22, 23, 28, 47, 31, 18, 14, 43, 43, 13, 28, 30, 16, 43, 30, 48, 8, 43, 38, 4, 22, 53, 23, 37, 43, 4, 22, 43, 8, 53, 33, 8, 43, 30, 48, 28, 33, 43, 31, 53, 55, 30, 30, 4, 47, 43, 56, 8, 37, 14, 43, 43, 34, 4, 43, 8, 32, 30, 43, 30, 48, 8, 43, 38, 4, 22, 53, 23, 41, 33, 43, 23, 55, 8, 37, 43, 56, 16, 43, 30, 48, 8, 43, 31, 22, 32, 0, 8, 43, 32, 47, 23, 43, 30, 48, 8, 8, 6, 14, 14, 14, 43, 43, 43, 43, 43, 43, 43, 43, 43, 43, 43, 43, 43, 43, 43, 43, 43, 43, 43, 43, 54, 14, 14, 11, 48, 8, 47, 43, 51, 4, 22, 30, 16, 43, 38, 28, 47, 30, 8, 22, 33, 43, 33, 48, 32, 53, 53, 43, 56, 8, 33, 28, 8, 31, 8, 43, 30, 48, 16, 43, 56, 22, 4, 38, 37, 14, 46, 47, 23, 43, 23, 28, 31, 43, 23, 8, 8, 7, 43, 30, 22, 8, 47, 12, 48, 8, 33, 43, 28, 47, 43, 30, 48, 16, 43, 56, 8, 32, 55, 30, 16, 41, 33, 43, 51, 28, 8, 53, 23, 37, 14, 34, 48, 16, 43, 16, 4, 55, 30, 48, 41, 33, 43, 7, 22, 4, 55, 23, 43, 53, 28, 0, 8, 22, 16, 43, 33, 4, 43, 31, 32, 42, 8, 23, 43, 4, 47, 43, 47, 4, 38, 37, 14, 11, 28, 53, 53, 43, 56, 8, 43, 32, 43, 30, 32, 30, 30, 8, 22, 8, 23, 43, 38, 8, 8, 23, 43, 4, 51, 43, 33, 29, 32, 53, 53, 43, 38, 4, 22, 30, 48, 43, 48, 8, 53, 23, 18, 14, 34, 48, 8, 47, 43, 56, 8, 28, 47, 31, 43, 32, 33, 36, 8, 23, 37, 43, 38, 48, 8, 22, 8, 43, 32, 53, 53, 43, 30, 48, 16, 43, 56, 8, 32, 55, 30, 16, 43, 53, 28, 8, 33, 37, 14, 11, 48, 8, 22, 8, 43, 32, 53, 53, 43, 30, 48, 8, 43, 30, 22, 8, 32, 33, 55, 22, 8, 43, 4, 51, 43, 30, 48, 16, 43, 53, 55, 33, 30, 16, 43, 23, 32, 16, 33, 39, 14, 34, 4, 43, 33, 32, 16, 37, 43, 38, 28, 30, 48, 28, 47, 43, 30, 48, 28, 47, 8, 43, 4, 38, 47, 43, 23, 8, 8, 7, 43, 33, 55, 47, 36, 8, 47, 43, 8, 16, 8, 33, 37, 14, 11, 8, 22, 8, 43, 32, 47, 43, 32, 53, 53, 5, 8, 32, 30, 28, 47, 31, 43, 33, 48, 32, 29, 8, 37, 43, 32, 47, 23, 43, 30, 48, 22, 28, 51, 30, 53, 8, 33, 33, 43, 7, 22, 32, 28, 33, 8, 6, 14, 44, 4, 38, 43, 29, 55, 12, 48, 43, 29, 4, 22, 8, 43, 7, 22, 32, 28, 33, 8, 43, 23, 8, 33, 8, 22, 0, 41, 23, 43, 30, 48, 16, 43, 56, 8, 32, 55, 30, 16, 41, 33, 43, 55, 33, 8, 37, 14, 3, 51, 43, 30, 48, 4, 55, 43, 12, 4, 55, 53, 23, 33, 30, 43, 32, 47, 33, 38, 8, 22, 43, 15, 34, 48, 28, 33, 43, 51, 32, 28, 22, 43, 12, 48, 28, 53, 23, 43, 4, 51, 43, 29, 28, 47, 8, 14, 10, 48, 32, 53, 53, 43, 33, 55, 29, 43, 29, 16, 43, 12, 4, 55, 47, 30, 37, 43, 32, 47, 23, 43, 29, 32, 36, 8, 43, 29, 16, 43, 4, 53, 23, 43, 8, 20, 12, 55, 33, 8, 37, 41, 14, 13, 22, 4, 0, 28, 47, 31, 43, 48, 28, 33, 43, 56, 8, 32, 55, 30, 16, 43, 56, 16, 43, 33, 55, 12, 12, 8, 33, 33, 28, 4, 47, 43, 30, 48, 28, 47, 8, 6, 14, 43, 43, 34, 48, 28, 33, 43, 38, 8, 22, 8, 43, 30, 4, 43, 56, 8, 43, 47, 8, 38, 43, 29, 32, 23, 8, 43, 38, 48, 8, 47, 43, 30, 48, 4, 55, 43, 32, 22, 30, 43, 4, 53, 23, 37, 14, 43, 43, 46, 47, 23, 43, 33, 8, 8, 43, 30, 48, 16, 43, 56, 53, 4, 4, 23, 43, 38, 32, 22, 29, 43, 38, 48, 8, 47, 43, 30, 48, 4, 55, 43, 51, 8, 8, 53, 41, 33, 30, 43, 28, 30, 43, 12, 4, 53, 23, 6, 14, 14, 14, 43, 43, 43, 43, 43, 43, 43, 43, 43, 43, 43, 43, 43, 43, 43, 43, 43, 43, 43, 43, 19, 14, 14, 9, 4, 4, 36, 43, 28, 47, 43, 30, 48, 16, 43, 31, 53, 32, 33, 33, 43, 32, 47, 23, 43, 30, 8, 53, 53, 43, 30, 48, 8, 43, 51, 32, 12, 8, 43, 30, 48, 4, 55, 43, 0, 28, 8, 38, 8, 33, 30, 37, 14, 17, 4, 38, 43, 28, 33, 43, 30, 48, 8, 43, 30, 28, 29, 8, 43, 30, 48, 32, 30, 43, 51, 32, 12, 8, 43, 33, 48, 4, 55, 53, 23, 43, 51, 4, 22, 29, 43, 32, 47, 4, 30, 48, 8, 22, 37, 14, 11, 48, 4, 33, 8, 43, 51, 22, 8, 33, 48, 43, 22, 8, 7, 32, 28, 22, 43, 28, 51, 43, 47, 4, 38, 43, 30, 48, 4, 55, 43, 47, 4, 30, 43, 22, 8, 47, 8, 38, 8, 33, 30, 37, 14, 34, 48, 4, 55, 43, 23, 4, 33, 30, 43, 56, 8, 31, 55, 28, 53, 8, 43, 30, 48, 8, 43, 38, 4, 22, 53, 23, 37, 43, 55, 47, 56, 53, 8, 33, 33, 43, 33, 4, 29, 8, 43, 29, 4, 30, 48, 8, 22, 6, 14, 21, 4, 22, 43, 38, 48, 8, 22, 8, 43, 28, 33, 43, 33, 48, 8, 43, 33, 4, 43, 51, 32, 28, 22, 43, 38, 48, 4, 33, 8, 43, 55, 47, 8, 32, 22, 8, 23, 43, 38, 4, 29, 56, 14, 24, 28, 33, 23, 32, 28, 47, 33, 43, 30, 48, 8, 43, 30, 28, 53, 53, 32, 31, 8, 43, 4, 51, 43, 30, 48, 16, 43, 48, 55, 33, 56, 32, 47, 23, 22, 16, 2, 14, 1, 22, 43, 38, 48, 4, 43, 28, 33, 43, 48, 8, 43, 33, 4, 43, 51, 4, 47, 23, 43, 38, 28, 53, 53, 43, 56, 8, 43, 30, 48, 8, 43, 30, 4, 29, 56, 14, 1, 51, 43, 48, 28, 33, 43, 33, 8, 53, 51, 5, 53, 4, 0, 8, 43, 30, 4, 43, 33, 30, 4, 7, 43, 7, 4, 33, 30, 8, 22, 28, 30, 16, 2, 14, 34, 48, 4, 55, 43, 32, 22, 30, 43, 30, 48, 16, 43, 29, 4, 30, 48, 8, 22, 41, 33, 43, 31, 53, 32, 33, 33, 43, 32, 47, 23, 43, 33, 48, 8, 43, 28, 47, 43, 30, 48, 8, 8, 14, 45, 32, 53, 53, 33, 43, 56, 32, 12, 36, 43, 30, 48, 8, 43, 53, 4, 0, 8, 53, 16, 43, 46, 7, 22, 28, 53, 43, 4, 51, 43, 48, 8, 22, 43, 7, 22, 28, 29, 8, 37, 14, 10, 4, 43, 30, 48, 4, 55, 43, 30, 48, 22, 4, 55, 31, 48, 43, 38, 28, 47, 23, 4, 38, 33, 43, 4, 51, 43, 30, 48, 28, 47, 8, 43, 32, 31, 8, 43, 33, 48, 32, 53, 30, 43, 33, 8, 8, 37, 14, 24, 8, 33, 7, 28, 30, 8, 43, 4, 51, 43, 38, 22, 28, 47, 36, 53, 8, 33, 43, 30, 48, 28, 33, 43, 30, 48, 16, 43, 31, 4, 53, 23, 8, 47, 43, 30, 28, 29, 8, 6, 14, 43, 43, 27, 55, 30, 43, 28, 51, 43, 30, 48, 4, 55, 43, 53, 28, 0, 8, 43, 22, 8, 29, 8, 29, 56, 8, 22, 8, 23, 43, 47, 4, 30, 43, 30, 4, 43, 56, 8, 37, 14, 43, 43, 24, 28, 8, 43, 33, 28, 47, 31, 53, 8, 43, 32, 47, 23, 43, 30, 48, 28, 47, 8, 43, 28, 29, 32, 31, 8, 43, 23, 28, 8, 33, 43, 38, 28, 30, 48, 43, 30, 48, 8, 8, 6, 14, 14, 14, 43, 43, 43, 43, 43, 43, 43, 43, 43, 43, 43, 43, 43, 43, 43, 43, 43, 43, 43, 43, 49, 14, 14, 50, 47, 30, 48, 22, 28, 51, 30, 16, 43, 53, 4, 0, 8, 53, 28, 47, 8, 33, 33, 43, 38, 48, 16, 43, 23, 4, 33, 30, 43, 30, 48, 4, 55, 43, 33, 7, 8, 47, 23, 37, 14, 50, 7, 4, 47, 43, 30, 48, 16, 43, 33, 8, 53, 51, 43, 30, 48, 16, 43, 56, 8, 32, 55, 30, 16, 41, 33, 43, 53, 8, 31, 32, 12, 16, 2, 14, 17, 32, 30, 55, 22, 8, 41, 33, 43, 56, 8, 40, 55, 8, 33, 30, 43, 31, 28, 0, 8, 33, 43, 47, 4, 30, 48, 28, 47, 31, 43, 56, 55, 30, 43, 23, 4, 30, 48, 43, 53, 8, 47, 23, 37, 14, 46, 47, 23, 43, 56, 8, 28, 47, 31, 43, 51, 22, 32, 47, 36, 43, 33, 48, 8, 43, 53, 8, 47, 23, 33, 43, 30, 4, 43, 30, 48, 4, 33, 8, 43, 32, 22, 8, 43, 51, 22, 8, 8, 18, 14, 34, 48, 8, 47, 43, 56, 8, 32, 55, 30, 8, 4, 55, 33, 43, 47, 28, 31, 31, 32, 22, 23, 43, 38, 48, 16, 43, 23, 4, 33, 30, 43, 30, 48, 4, 55, 43, 32, 56, 55, 33, 8, 37, 14, 34, 48, 8, 43, 56, 4, 55, 47, 30, 8, 4, 55, 33, 43, 53, 32, 22, 31, 8, 33, 33, 43, 31, 28, 0, 8, 47, 43, 30, 48, 8, 8, 43, 30, 4, 43, 31, 28, 0, 8, 2, 14, 13, 22, 4, 51, 28, 30, 53, 8, 33, 33, 43, 55, 33, 55, 22, 8, 22, 43, 38, 48, 16, 43, 23, 4, 33, 30, 43, 30, 48, 4, 55, 43, 55, 33, 8, 14, 10, 4, 43, 31, 22, 8, 32, 30, 43, 32, 43, 33, 55, 29, 43, 4, 51, 43, 33, 55, 29, 33, 43, 16, 8, 30, 43, 12, 32, 47, 33, 30, 43, 47, 4, 30, 43, 53, 28, 0, 8, 2, 14, 21, 4, 22, 43, 48, 32, 0, 28, 47, 31, 43, 30, 22, 32, 51, 51, 28, 12, 43, 38, 28, 30, 48, 43, 30, 48, 16, 43, 33, 8, 53, 51, 43, 32, 53, 4, 47, 8, 37, 14, 34, 48, 4, 55, 43, 4, 51, 43, 30, 48, 16, 43, 33, 8, 53, 51, 43, 30, 48, 16, 43, 33, 38, 8, 8, 30, 43, 33, 8, 53, 51, 43, 23, 4, 33, 30, 43, 23, 8, 12, 8, 28, 0, 8, 37, 14, 34, 48, 8, 47, 43, 48, 4, 38, 43, 38, 48, 8, 47, 43, 47, 32, 30, 55, 22, 8, 43, 12, 32, 53, 53, 33, 43, 30, 48, 8, 8, 43, 30, 4, 43, 56, 8, 43, 31, 4, 47, 8, 37, 14, 11, 48, 32, 30, 43, 32, 12, 12, 8, 7, 30, 32, 56, 53, 8, 43, 32, 55, 23, 28, 30, 43, 12, 32, 47, 33, 30, 43, 30, 48, 4, 55, 43, 53, 8, 32, 0, 8, 2, 14, 43, 43, 34, 48, 16, 43, 55, 47, 55, 33, 8, 23, 43, 56, 8, 32, 55, 30, 16, 43, 29, 55, 33, 30, 43, 56, 8, 43, 30, 4, 29, 56, 8, 23, 43, 38, 28, 30, 48, 43, 30, 48, 8, 8, 37, 14, 43, 43, 11, 48, 28, 12, 48, 43, 55, 33, 8, 23, 43, 53, 28, 0, 8, 33, 43, 30, 48, 41, 43, 8, 20, 8, 12, 55, 30, 4, 22, 43, 30, 4, 43, 56, 8, 6, 14, 14, 14, 43, 43, 43, 43, 43, 43, 43, 43, 43, 43, 43, 43, 43, 43, 43, 43, 43, 43, 43, 43, 52, 14, 14, 34, 48, 4, 33, 8, 43, 48, 4, 55, 22, 33, 43, 30, 48, 32, 30, 43, 38, 28, 30, 48, 43, 31, 8, 47, 30, 53, 8, 43, 38, 4, 22, 36, 43, 23, 28, 23, 43, 51, 22, 32, 29, 8, 14, 34, 48, 8, 43, 53, 4, 0, 8, 53, 16, 43, 31, 32, 42, 8, 43, 38, 48, 8, 22, 8, 43, 8, 0, 8, 22, 16, 43, 8, 16, 8, 43, 23, 4, 30, 48, 43, 23, 38, 8, 53, 53, 14, 11, 28, 53, 53, 43, 7, 53, 32, 16, 43, 30, 48, 8, 43, 30, 16, 22, 32, 47, 30, 33, 43, 30, 4, 43, 30, 48, 8, 43, 0, 8, 22, 16, 43, 33, 32, 29, 8, 37, 14, 46, 47, 23, 43, 30, 48, 32, 30, 43, 55, 47, 51, 32, 28, 22, 43, 38, 48, 28, 12, 48, 43, 51, 32, 28, 22, 53, 16, 43, 23, 4, 30, 48, 43, 8, 20, 12, 8, 53, 18, 14, 21, 4, 22, 43, 47, 8, 0, 8, 22, 5, 22, 8, 33, 30, 28, 47, 31, 43, 30, 28, 29, 8, 43, 53, 8, 32, 23, 33, 43, 33, 55, 29, 29, 8, 22, 43, 4, 47, 14, 34, 4, 43, 48, 28, 23, 8, 4, 55, 33, 43, 38, 28, 47, 30, 8, 22, 43, 32, 47, 23, 43, 12, 4, 47, 51, 4, 55, 47, 23, 33, 43, 48, 28, 29, 43, 30, 48, 8, 22, 8, 37, 14, 10, 32, 7, 43, 12, 48, 8, 12, 36, 8, 23, 43, 38, 28, 30, 48, 43, 51, 22, 4, 33, 30, 43, 32, 47, 23, 43, 53, 55, 33, 30, 16, 43, 53, 8, 32, 0, 8, 33, 43, 40, 55, 28, 30, 8, 43, 31, 4, 47, 8, 37, 14, 27, 8, 32, 55, 30, 16, 43, 4, 41, 8, 22, 5, 33, 47, 4, 38, 8, 23, 43, 32, 47, 23, 43, 56, 32, 22, 8, 47, 8, 33, 33, 43, 8, 0, 8, 22, 16, 43, 38, 48, 8, 22, 8, 18, 14, 34, 48, 8, 47, 43, 38, 8, 22, 8, 43, 47, 4, 30, 43, 33, 55, 29, 29, 8, 22, 41, 33, 43, 23, 28, 33, 30, 28, 53, 53, 32, 30, 28, 4, 47, 43, 53, 8, 51, 30, 14, 46, 43, 53, 28, 40, 55, 28, 23, 43, 7, 22, 28, 33, 4, 47, 8, 22, 43, 7, 8, 47, 30, 43, 28, 47, 43, 38, 32, 53, 53, 33, 43, 4, 51, 43, 31, 53, 32, 33, 33, 37, 14, 27, 8, 32, 55, 30, 16, 41, 33, 43, 8, 51, 51, 8, 12, 30, 43, 38, 28, 30, 48, 43, 56, 8, 32, 55, 30, 16, 43, 38, 8, 22, 8, 43, 56, 8, 22, 8, 51, 30, 37, 14, 17, 4, 22, 43, 28, 30, 43, 47, 4, 22, 43, 47, 4, 43, 22, 8, 29, 8, 29, 56, 22, 32, 47, 12, 8, 43, 38, 48, 32, 30, 43, 28, 30, 43, 38, 32, 33, 6, 14, 43, 43, 27, 55, 30, 43, 51, 53, 4, 38, 8, 22, 33, 43, 23, 28, 33, 30, 28, 53, 53, 8, 23, 43, 30, 48, 4, 55, 31, 48, 43, 30, 48, 8, 16, 43, 38, 28, 30, 48, 43, 38, 28, 47, 30, 8, 22, 43, 29, 8, 8, 30, 37, 14, 43, 43, 9, 8, 8, 33, 8, 43, 56, 55, 30, 43, 30, 48, 8, 28, 22, 43, 33, 48, 4]\n",
      "----------------------------------------------------\n",
      "data length :  3170\n"
     ]
    }
   ],
   "source": [
    "# one hot encode\n",
    "char_to_int = dict((c, i) for i, c in enumerate(chars)) # \"enumerate\" retruns index and value. Convert it to dictionary\n",
    "int_to_char = dict((i, c) for i, c in enumerate(chars))\n",
    "print(char_to_int)\n",
    "print(\"----------------------------------------------------\")\n",
    "print(int_to_char)\n",
    "print(\"----------------------------------------------------\")\n",
    "# integer encode input data\n",
    "integer_encoded = [char_to_int[i] for i in sonnets] # \"integer_encoded\" is a list which has a sequence converted from an original data to integers.\n",
    "print(integer_encoded)\n",
    "print(\"----------------------------------------------------\")\n",
    "print(\"data length : \", len(integer_encoded))"
   ]
  },
  {
   "cell_type": "code",
   "execution_count": 89,
   "metadata": {},
   "outputs": [],
   "source": [
    "# hyperparameters\n",
    "\n",
    "iteration = 1000\n",
    "sequence_length = 40\n",
    "batch_size = round((txt_data_size /sequence_length)+0.5) # = math.ceil\n",
    "hidden_size = 500  # size of hidden layer of neurons.  \n",
    "learning_rate = 1e-1\n",
    "\n",
    "\n",
    "# model parameters\n",
    "\n",
    "W_xh = np.random.randn(hidden_size, num_chars)*0.01     # weight input -> hidden. \n",
    "W_hh = np.random.randn(hidden_size, hidden_size)*0.01   # weight hidden -> hidden\n",
    "W_hy = np.random.randn(num_chars, hidden_size)*0.01     # weight hidden -> output\n",
    "\n",
    "b_h = np.zeros((hidden_size, 1)) # hidden bias\n",
    "b_y = np.zeros((num_chars, 1)) # output bias\n",
    "\n",
    "h_prev = np.zeros((hidden_size,1)) # h_(t-1)"
   ]
  },
  {
   "cell_type": "code",
   "execution_count": 83,
   "metadata": {},
   "outputs": [],
   "source": [
    "def forwardprop(inputs, targets, h_prev):\n",
    "        \n",
    "    # Since the RNN receives the sequence, the weights are not updated during one sequence.\n",
    "    xs, hs, ys, ps = {}, {}, {}, {} # dictionary\n",
    "    hs[-1] = np.copy(h_prev) # Copy previous hidden state vector to -1 key value.\n",
    "    loss = 0 # loss initialization\n",
    "    \n",
    "    for t in range(len(inputs)): # t is a \"time step\" and is used as a key(dic).  \n",
    "        \n",
    "        xs[t] = np.zeros((num_chars,1)) \n",
    "        xs[t][inputs[t]] = 1\n",
    "        hs[t] = np.tanh(np.dot(W_xh, xs[t]) + np.dot(W_hh, hs[t-1]) + b_h) # hidden state. \n",
    "        ys[t] = np.dot(W_hy, hs[t]) + b_y # unnormalized log probabilities for next chars\n",
    "        ps[t] = np.exp(ys[t]) / np.sum(np.exp(ys[t])) # probabilities for next chars. \n",
    "        \n",
    "        # Softmax. -> The sum of probabilities is 1 even without the exp() function, but all of the elements are positive through the exp() function.\n",
    "        loss += -np.log(ps[t][targets[t],0]) # softmax (cross-entropy loss). Efficient and simple code\n",
    "\n",
    "#         y_class = np.zeros((num_chars, 1)) \n",
    "#         y_class[targets[t]] =1\n",
    "#         loss += np.sum(y_class*(-np.log(ps[t]))) # softmax (cross-entropy loss)        \n",
    "\n",
    "    return loss, ps, hs, xs"
   ]
  },
  {
   "cell_type": "code",
   "execution_count": 84,
   "metadata": {},
   "outputs": [],
   "source": [
    "def backprop(ps, inputs, hs, xs, targets):\n",
    "\n",
    "    dWxh, dWhh, dWhy = np.zeros_like(W_xh), np.zeros_like(W_hh), np.zeros_like(W_hy) # make all zero matrices.\n",
    "    dbh, dby = np.zeros_like(b_h), np.zeros_like(b_y)\n",
    "    dhnext = np.zeros_like(hs[0]) # (hidden_size,1) \n",
    "\n",
    "    # reversed\n",
    "    for t in reversed(range(len(inputs))):\n",
    "        dy = np.copy(ps[t]) # shape (num_chars,1).  \"dy\" means \"dloss/dy\"\n",
    "        dy[targets[t]] -= 1 # backprop into y. After taking the soft max in the input vector, subtract 1 from the value of the element corresponding to the correct label.\n",
    "        dWhy += np.dot(dy, hs[t].T)\n",
    "        dby += dy \n",
    "        dh = np.dot(W_hy.T, dy) + dhnext # backprop into h. \n",
    "        dhraw = (1 - hs[t] * hs[t]) * dh # backprop through tanh nonlinearity #tanh'(x) = 1-tanh^2(x)\n",
    "        dbh += dhraw\n",
    "        dWxh += np.dot(dhraw, xs[t].T)\n",
    "        dWhh += np.dot(dhraw, hs[t-1].T)\n",
    "        dhnext = np.dot(W_hh.T, dhraw)\n",
    "    for dparam in [dWxh, dWhh, dWhy, dbh, dby]: \n",
    "        np.clip(dparam, -5, 5, out=dparam) # clip to mitigate exploding gradients.  \n",
    "    \n",
    "    return dWxh, dWhh, dWhy, dbh, dby"
   ]
  },
  {
   "cell_type": "code",
   "execution_count": 90,
   "metadata": {},
   "outputs": [
    {
     "name": "stdout",
     "output_type": "stream",
     "text": [
      "iter 0, loss: 51.899747\n",
      "iter 100, loss: 25.380212\n",
      "iter 200, loss: 26.140036\n",
      "iter 300, loss: 23.935656\n",
      "iter 400, loss: 22.797181\n",
      "iter 500, loss: 21.764268\n",
      "iter 600, loss: 21.464287\n",
      "iter 700, loss: 20.323179\n",
      "iter 800, loss: 20.812576\n",
      "iter 900, loss: 18.679569\n",
      "CPU times: user 1h 58min 40s, sys: 1min 54s, total: 2h 34s\n",
      "Wall time: 1h 3min 6s\n"
     ]
    }
   ],
   "source": [
    "%%time\n",
    "\n",
    "data_pointer = 0\n",
    "\n",
    "# memory variables for Adagrad\n",
    "mWxh, mWhh, mWhy = np.zeros_like(W_xh), np.zeros_like(W_hh), np.zeros_like(W_hy)\n",
    "mbh, mby = np.zeros_like(b_h), np.zeros_like(b_y) \n",
    "\n",
    "for i in range(iteration):\n",
    "    h_prev = np.zeros((hidden_size,1)) # reset RNN memory\n",
    "    data_pointer = 0 # go from start of data\n",
    "    \n",
    "    for b in range(batch_size):\n",
    "        \n",
    "        inputs = [char_to_int[ch] for ch in sonnets[data_pointer:data_pointer+sequence_length]]\n",
    "        targets = [char_to_int[ch] for ch in sonnets[data_pointer+1:data_pointer+sequence_length+1]] # t+1        \n",
    "            \n",
    "        if (data_pointer+sequence_length+1 >= len(sonnets) and b == batch_size-1): # processing of the last part of the input data. \n",
    "#             targets.append(char_to_int[txt_data[0]])   # When the data doesn't fit, add the first char to the back.\n",
    "            targets.append(char_to_int[\" \"])   # When the data doesn't fit, add space(\" \") to the back.\n",
    "\n",
    "\n",
    "        # forward\n",
    "        loss, ps, hs, xs = forwardprop(inputs, targets, h_prev)\n",
    "#         print(loss)\n",
    "    \n",
    "        # backward\n",
    "        dWxh, dWhh, dWhy, dbh, dby = backprop(ps, inputs, hs, xs, targets) \n",
    "        \n",
    "        \n",
    "    # perform parameter update with Adagrad\n",
    "        for param, dparam, mem in zip([W_xh, W_hh, W_hy, b_h, b_y], \n",
    "                                    [dWxh, dWhh, dWhy, dbh, dby], \n",
    "                                    [mWxh, mWhh, mWhy, mbh, mby]):\n",
    "            mem += dparam * dparam # elementwise\n",
    "            param += -learning_rate * dparam / np.sqrt(mem + 1e-8) # adagrad update      \n",
    "    \n",
    "        data_pointer += sequence_length # move data pointer\n",
    "        \n",
    "    if i % 100 == 0:\n",
    "        print ('iter %d, loss: %f' % (i, loss)) # print progress"
   ]
  },
  {
   "cell_type": "code",
   "execution_count": 91,
   "metadata": {},
   "outputs": [],
   "source": [
    "def predict(test_char, length):\n",
    "    x = np.zeros((num_chars, 1)) \n",
    "    x[char_to_int[test_char]] = 1\n",
    "    ixes = []\n",
    "    h = np.zeros((hidden_size,1))\n",
    "\n",
    "    for t in range(length):\n",
    "        h = np.tanh(np.dot(W_xh, x) + np.dot(W_hh, h) + b_h) \n",
    "        y = np.dot(W_hy, h) + b_y\n",
    "        p = np.exp(y) / np.sum(np.exp(y)) \n",
    "        ix = np.random.choice(range(num_chars), p=p.ravel()) # ravel -> rank0\n",
    "        # \"ix\" is a list of indexes selected according to the soft max probability.\n",
    "        x = np.zeros((num_chars, 1)) # init\n",
    "        x[ix] = 1 \n",
    "        ixes.append(ix) # list\n",
    "    txt = test_char + ''.join(int_to_char[i] for i in ixes)\n",
    "    print ('----\\n %s \\n----' % (txt, ))"
   ]
  },
  {
   "cell_type": "code",
   "execution_count": 98,
   "metadata": {},
   "outputs": [
    {
     "name": "stdout",
     "output_type": "stream",
     "text": [
      "----\n",
      " but thenn thes thaute be toig mireqseris  as sousud il\n",
      "sus  Lounsr tis wim Dourenud’\n",
      "\n",
      "Lhys oand mhae  \n",
      "----\n"
     ]
    }
   ],
   "source": [
    "predict('b', 100)"
   ]
  },
  {
   "cell_type": "code",
   "execution_count": null,
   "metadata": {},
   "outputs": [],
   "source": []
  },
  {
   "cell_type": "markdown",
   "metadata": {
    "colab_type": "text",
    "id": "zE4a4O7Bp5x1"
   },
   "source": [
    "# Resources and Stretch Goals"
   ]
  },
  {
   "cell_type": "markdown",
   "metadata": {
    "colab_type": "text",
    "id": "uT3UV3gap9H6"
   },
   "source": [
    "## Stretch goals:\n",
    "- Refine the training and generation of text to be able to ask for different genres/styles of Shakespearean text (e.g. plays versus sonnets)\n",
    "- Train a classification model that takes text and returns which work of Shakespeare it is most likely to be from\n",
    "- Make it more performant! Many possible routes here - lean on Keras, optimize the code, and/or use more resources (AWS, etc.)\n",
    "- Revisit the news example from class, and improve it - use categories or tags to refine the model/generation, or train a news classifier\n",
    "- Run on bigger, better data\n",
    "\n",
    "## Resources:\n",
    "- [The Unreasonable Effectiveness of Recurrent Neural Networks](https://karpathy.github.io/2015/05/21/rnn-effectiveness/) - a seminal writeup demonstrating a simple but effective character-level NLP RNN\n",
    "- [Simple NumPy implementation of RNN](https://github.com/JY-Yoon/RNN-Implementation-using-NumPy/blob/master/RNN%20Implementation%20using%20NumPy.ipynb) - Python 3 version of the code from \"Unreasonable Effectiveness\"\n",
    "- [TensorFlow RNN Tutorial](https://github.com/tensorflow/models/tree/master/tutorials/rnn) - code for training a RNN on the Penn Tree Bank language dataset\n",
    "- [4 part tutorial on RNN](http://www.wildml.com/2015/09/recurrent-neural-networks-tutorial-part-1-introduction-to-rnns/) - relates RNN to the vanishing gradient problem, and provides example implementation\n",
    "- [RNN training tips and tricks](https://github.com/karpathy/char-rnn#tips-and-tricks) - some rules of thumb for parameterizing and training your RNN"
   ]
  }
 ],
 "metadata": {
  "accelerator": "GPU",
  "colab": {
   "collapsed_sections": [],
   "name": "LS_DS_441_RNN_and_LSTM.ipynb",
   "provenance": [],
   "version": "0.3.2"
  },
  "kernelspec": {
   "display_name": "Python 3",
   "language": "python",
   "name": "python3"
  },
  "language_info": {
   "codemirror_mode": {
    "name": "ipython",
    "version": 3
   },
   "file_extension": ".py",
   "mimetype": "text/x-python",
   "name": "python",
   "nbconvert_exporter": "python",
   "pygments_lexer": "ipython3",
   "version": "3.7.3"
  }
 },
 "nbformat": 4,
 "nbformat_minor": 2
}
